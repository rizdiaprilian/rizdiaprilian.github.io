{
 "cells": [
  {
   "cell_type": "code",
   "execution_count": null,
   "metadata": {},
   "outputs": [],
   "source": []
  },
  {
   "attachments": {},
   "cell_type": "markdown",
   "metadata": {},
   "source": [
    "---\n",
    "title: \"Hyperparameter Optimization with Optuna\"\n",
    "author: \"Rizdi Aprilian\"\n",
    "date: \"2023-06-17\"\n",
    "categories: [Hyperparameter, Optuna, Bayesian]\n",
    "\n",
    "---"
   ]
  },
  {
   "attachments": {},
   "cell_type": "markdown",
   "metadata": {},
   "source": [
    "In developing predictive machine learning, a practice that many could not overlook at is pursuing a hyperparameter that return the best possible of optimum prediction on data. Grid search and Randomized search have been greatly relied on for quite some time. Grid search selects a set collection of values to test for each parameter by creating permutations of each value from each searching group, as for many perceive this method as brute-force-search. Random search, meanwhile, performs testing the effects of different hyperparameters at the same time using random sampling of each group, and this technique comes at the cost of suboptimal training while greatly reduce computational load and time required to run grid search.\n",
    "\n",
    "That's where Optuna fill the gap. Known from many as framework agnostic (meaning that regardless of machine learning libraries you're using), Optuna is specifically designed for running hyperparameter optimization in automatic fashion. What's more is that Optuna also supports for parallelism - scaling this task from one machine to multiple machine in a cluster. However, in this page, I'll demonstrated how Optuna can assist in arriving at hyperparameter with optimum prediction in local machine. LGBM is chosen."
   ]
  },
  {
   "cell_type": "code",
   "execution_count": 1,
   "metadata": {},
   "outputs": [
    {
     "name": "stderr",
     "output_type": "stream",
     "text": [
      "c:\\Users\\rizdi\\miniconda3\\envs\\mlops_monitor\\lib\\site-packages\\tqdm\\auto.py:22: TqdmWarning: IProgress not found. Please update jupyter and ipywidgets. See https://ipywidgets.readthedocs.io/en/stable/user_install.html\n",
      "  from .autonotebook import tqdm as notebook_tqdm\n"
     ]
    }
   ],
   "source": [
    "import pandas as pd\n",
    "import numpy as np\n",
    "import matplotlib.pyplot as plt\n",
    "import seaborn as sns\n",
    "\n",
    "from sklearn.compose import ColumnTransformer\n",
    "from sklearn.pipeline import Pipeline\n",
    "from sklearn.preprocessing import StandardScaler, MinMaxScaler, LabelEncoder, OneHotEncoder\n",
    "\n",
    "from sklearn.model_selection import train_test_split, KFold, StratifiedKFold\n",
    "from sklearn.metrics import roc_auc_score, accuracy_score, confusion_matrix, ConfusionMatrixDisplay, RocCurveDisplay\n",
    "\n",
    "import optuna\n",
    "import lightgbm as lgb\n",
    "from lightgbm import LGBMClassifier\n",
    "\n",
    "\n",
    "import warnings\n",
    "\n",
    "warnings.filterwarnings('ignore')\n",
    "pd.set_option('display.max_columns', 100)\n",
    "plt.style.use('fivethirtyeight')\n"
   ]
  },
  {
   "cell_type": "code",
   "execution_count": 2,
   "metadata": {},
   "outputs": [
    {
     "data": {
      "text/html": [
       "<div>\n",
       "<style scoped>\n",
       "    .dataframe tbody tr th:only-of-type {\n",
       "        vertical-align: middle;\n",
       "    }\n",
       "\n",
       "    .dataframe tbody tr th {\n",
       "        vertical-align: top;\n",
       "    }\n",
       "\n",
       "    .dataframe thead th {\n",
       "        text-align: right;\n",
       "    }\n",
       "</style>\n",
       "<table border=\"1\" class=\"dataframe\">\n",
       "  <thead>\n",
       "    <tr style=\"text-align: right;\">\n",
       "      <th></th>\n",
       "      <th>age</th>\n",
       "      <th>anaemia</th>\n",
       "      <th>creatinine_phosphokinase</th>\n",
       "      <th>diabetes</th>\n",
       "      <th>ejection_fraction</th>\n",
       "      <th>high_blood_pressure</th>\n",
       "      <th>platelets</th>\n",
       "      <th>serum_creatinine</th>\n",
       "      <th>serum_sodium</th>\n",
       "      <th>sex</th>\n",
       "      <th>smoking</th>\n",
       "      <th>time</th>\n",
       "      <th>DEATH_EVENT</th>\n",
       "    </tr>\n",
       "  </thead>\n",
       "  <tbody>\n",
       "    <tr>\n",
       "      <th>0</th>\n",
       "      <td>75.0</td>\n",
       "      <td>0</td>\n",
       "      <td>582</td>\n",
       "      <td>0</td>\n",
       "      <td>20</td>\n",
       "      <td>1</td>\n",
       "      <td>265000.00</td>\n",
       "      <td>1.9</td>\n",
       "      <td>130</td>\n",
       "      <td>1</td>\n",
       "      <td>0</td>\n",
       "      <td>4</td>\n",
       "      <td>1</td>\n",
       "    </tr>\n",
       "    <tr>\n",
       "      <th>1</th>\n",
       "      <td>55.0</td>\n",
       "      <td>0</td>\n",
       "      <td>7861</td>\n",
       "      <td>0</td>\n",
       "      <td>38</td>\n",
       "      <td>0</td>\n",
       "      <td>263358.03</td>\n",
       "      <td>1.1</td>\n",
       "      <td>136</td>\n",
       "      <td>1</td>\n",
       "      <td>0</td>\n",
       "      <td>6</td>\n",
       "      <td>1</td>\n",
       "    </tr>\n",
       "    <tr>\n",
       "      <th>2</th>\n",
       "      <td>65.0</td>\n",
       "      <td>0</td>\n",
       "      <td>146</td>\n",
       "      <td>0</td>\n",
       "      <td>20</td>\n",
       "      <td>0</td>\n",
       "      <td>162000.00</td>\n",
       "      <td>1.3</td>\n",
       "      <td>129</td>\n",
       "      <td>1</td>\n",
       "      <td>1</td>\n",
       "      <td>7</td>\n",
       "      <td>1</td>\n",
       "    </tr>\n",
       "    <tr>\n",
       "      <th>3</th>\n",
       "      <td>50.0</td>\n",
       "      <td>1</td>\n",
       "      <td>111</td>\n",
       "      <td>0</td>\n",
       "      <td>20</td>\n",
       "      <td>0</td>\n",
       "      <td>210000.00</td>\n",
       "      <td>1.9</td>\n",
       "      <td>137</td>\n",
       "      <td>1</td>\n",
       "      <td>0</td>\n",
       "      <td>7</td>\n",
       "      <td>1</td>\n",
       "    </tr>\n",
       "    <tr>\n",
       "      <th>4</th>\n",
       "      <td>65.0</td>\n",
       "      <td>1</td>\n",
       "      <td>160</td>\n",
       "      <td>1</td>\n",
       "      <td>20</td>\n",
       "      <td>0</td>\n",
       "      <td>327000.00</td>\n",
       "      <td>2.7</td>\n",
       "      <td>116</td>\n",
       "      <td>0</td>\n",
       "      <td>0</td>\n",
       "      <td>8</td>\n",
       "      <td>1</td>\n",
       "    </tr>\n",
       "  </tbody>\n",
       "</table>\n",
       "</div>"
      ],
      "text/plain": [
       "    age  anaemia  creatinine_phosphokinase  diabetes  ejection_fraction   \n",
       "0  75.0        0                       582         0                 20  \\\n",
       "1  55.0        0                      7861         0                 38   \n",
       "2  65.0        0                       146         0                 20   \n",
       "3  50.0        1                       111         0                 20   \n",
       "4  65.0        1                       160         1                 20   \n",
       "\n",
       "   high_blood_pressure  platelets  serum_creatinine  serum_sodium  sex   \n",
       "0                    1  265000.00               1.9           130    1  \\\n",
       "1                    0  263358.03               1.1           136    1   \n",
       "2                    0  162000.00               1.3           129    1   \n",
       "3                    0  210000.00               1.9           137    1   \n",
       "4                    0  327000.00               2.7           116    0   \n",
       "\n",
       "   smoking  time  DEATH_EVENT  \n",
       "0        0     4            1  \n",
       "1        0     6            1  \n",
       "2        1     7            1  \n",
       "3        0     7            1  \n",
       "4        0     8            1  "
      ]
     },
     "execution_count": 2,
     "metadata": {},
     "output_type": "execute_result"
    }
   ],
   "source": [
    "df = pd.read_csv('normalized_data.csv', sep=',')\n",
    "df.head(5)"
   ]
  },
  {
   "cell_type": "code",
   "execution_count": 3,
   "metadata": {},
   "outputs": [],
   "source": [
    "cat_cols = list(filter(lambda x: x if len(df[x].unique()) <= 3 else None, df.columns))\n",
    "\n",
    "df[cat_cols] = df[cat_cols].astype('category')"
   ]
  },
  {
   "cell_type": "code",
   "execution_count": 4,
   "metadata": {},
   "outputs": [
    {
     "data": {
      "text/plain": [
       "((239, 12), (60, 12), (239, 1), (60, 1))"
      ]
     },
     "execution_count": 4,
     "metadata": {},
     "output_type": "execute_result"
    }
   ],
   "source": [
    "X = df.loc[:,:\"time\"]\n",
    "y = df.loc[:,[\"DEATH_EVENT\"]]\n",
    "\n",
    "X_train, X_test, y_train, y_test = train_test_split(X, y, test_size=0.2, random_state=42, stratify=y)\n",
    "X_train.shape, X_test.shape, y_train.shape, y_test.shape"
   ]
  },
  {
   "cell_type": "code",
   "execution_count": 5,
   "metadata": {},
   "outputs": [],
   "source": [
    "cat_columns = ['anaemia', 'diabetes', 'high_blood_pressure', 'sex', 'smoking']\n",
    "num_columns = ['age', 'creatinine_phosphokinase', 'ejection_fraction', 'platelets', 'serum_creatinine', 'serum_sodium', 'time']"
   ]
  },
  {
   "cell_type": "code",
   "execution_count": 6,
   "metadata": {},
   "outputs": [],
   "source": [
    "## Transformer Pipeline\n",
    "num_transformer = Pipeline(steps=[\n",
    "    ('scaler', StandardScaler())\n",
    "])\n",
    "\n",
    "cat_transformer = Pipeline(steps=[\n",
    "    ('onehot', OneHotEncoder(drop='first', dtype=np.int))\n",
    "])\n",
    "\n",
    "## Column Transformer\n",
    "preprocessor = ColumnTransformer([\n",
    "    ('numeric', num_transformer, num_columns),\n",
    "    ('categoric', cat_transformer, cat_columns),\n",
    "])\n",
    "\n",
    "## Apply Column Transformer\n",
    "X_train = preprocessor.fit_transform(X_train)\n",
    "X_test = preprocessor.transform(X_test)\n",
    "\n",
    "## Label Encoding\n",
    "y_transformer = LabelEncoder()\n",
    "y_train = y_transformer.fit_transform(y_train).ravel()\n",
    "y_test = y_transformer.transform(y_test).ravel()"
   ]
  },
  {
   "cell_type": "code",
   "execution_count": 7,
   "metadata": {},
   "outputs": [],
   "source": [
    "def objective(trial):\n",
    "    params = {\n",
    "        'random_state': 23,\n",
    "        'n_estimators': 200,\n",
    "        'reg_alpha': trial.suggest_float('reg_alpha', 1E-10, 1E-5),\n",
    "        'reg_lambda': trial.suggest_float('reg_lambda', 1E-10, 1E-5),\n",
    "        'num_leaves': trial.suggest_int('num_leaves', 150, 300),\n",
    "        'learning_rate': trial.suggest_float('learning_rate', 0.01, 0.1),\n",
    "        'max_depth': trial.suggest_int('max_depth', 10,50),\n",
    "        'colsample_bytree': trial.suggest_float('colsample_bytree', 0.01, 0.1),\n",
    "        'subsample': trial.suggest_float('subsample', 0.1, 1.0),\n",
    "        'min_child_samples': trial.suggest_int('min_child_samples', 1, 20),\n",
    "        'subsample_freq': trial.suggest_int('subsample_freq', 1, 10),\n",
    "        'objective': 'binary',\n",
    "        'metric': 'binary_logloss'\n",
    "    }\n",
    "    \n",
    "    # Create the  LGBMClassifier learning object\n",
    "    lgbm_model = LGBMClassifier(**params)\n",
    "    \n",
    "    lgbm_model.fit(X_train, y_train)\n",
    "    \n",
    "    # Make predictions on the validation set\n",
    "    y_pred = lgbm_model.predict(X_test)\n",
    "\n",
    "    # Calculate MAE as the evaluation metric\n",
    "    roc_auc = roc_auc_score(y_test, y_pred)\n",
    "\n",
    "    # Return the evaluation metric value as the objective value to be minimized\n",
    "    return roc_auc"
   ]
  },
  {
   "cell_type": "code",
   "execution_count": 8,
   "metadata": {},
   "outputs": [
    {
     "name": "stderr",
     "output_type": "stream",
     "text": [
      "[I 2023-06-17 13:34:12,545] A new study created in memory with name: no-name-f9f4f083-528e-4b8a-bce8-2ade3b89f346\n",
      "[I 2023-06-17 13:34:12,709] Trial 0 finished with value: 0.7246469833119383 and parameters: {'reg_alpha': 5.270142430321572e-06, 'reg_lambda': 7.0947209053917484e-06, 'num_leaves': 178, 'learning_rate': 0.0891781733041886, 'max_depth': 35, 'colsample_bytree': 0.03090950619557188, 'subsample': 0.24825549471540287, 'min_child_samples': 20, 'subsample_freq': 9}. Best is trial 0 with value: 0.7246469833119383.\n",
      "[I 2023-06-17 13:34:13,227] Trial 1 finished with value: 0.6861360718870345 and parameters: {'reg_alpha': 7.025236249526668e-06, 'reg_lambda': 4.571522404954949e-06, 'num_leaves': 256, 'learning_rate': 0.04958566829222305, 'max_depth': 25, 'colsample_bytree': 0.07986235314153306, 'subsample': 0.4107035959692341, 'min_child_samples': 3, 'subsample_freq': 8}. Best is trial 0 with value: 0.7246469833119383.\n",
      "[I 2023-06-17 13:34:13,341] Trial 2 finished with value: 0.5 and parameters: {'reg_alpha': 6.554675169962187e-07, 'reg_lambda': 6.906462441481608e-06, 'num_leaves': 176, 'learning_rate': 0.033577259275936314, 'max_depth': 29, 'colsample_bytree': 0.024786159372631178, 'subsample': 0.12259677265568039, 'min_child_samples': 20, 'subsample_freq': 8}. Best is trial 0 with value: 0.7246469833119383.\n",
      "[I 2023-06-17 13:34:13,513] Trial 3 finished with value: 0.5808729139922978 and parameters: {'reg_alpha': 3.2574904058589524e-06, 'reg_lambda': 8.436676162704015e-06, 'num_leaves': 205, 'learning_rate': 0.02214270724529358, 'max_depth': 41, 'colsample_bytree': 0.09762750003330573, 'subsample': 0.953600458589063, 'min_child_samples': 16, 'subsample_freq': 4}. Best is trial 0 with value: 0.7246469833119383.\n",
      "[I 2023-06-17 13:34:13,703] Trial 4 finished with value: 0.5667522464698331 and parameters: {'reg_alpha': 3.817742738696571e-06, 'reg_lambda': 9.259064360859238e-06, 'num_leaves': 159, 'learning_rate': 0.014244613037565787, 'max_depth': 34, 'colsample_bytree': 0.09660950222198374, 'subsample': 0.7569510367909991, 'min_child_samples': 8, 'subsample_freq': 4}. Best is trial 0 with value: 0.7246469833119383.\n",
      "[I 2023-06-17 13:34:13,867] Trial 5 finished with value: 0.7528883183568679 and parameters: {'reg_alpha': 5.118465198769174e-06, 'reg_lambda': 9.878546242518675e-06, 'num_leaves': 271, 'learning_rate': 0.06886779418441034, 'max_depth': 22, 'colsample_bytree': 0.03610541389028709, 'subsample': 0.7043411890979814, 'min_child_samples': 14, 'subsample_freq': 4}. Best is trial 5 with value: 0.7528883183568679.\n",
      "[I 2023-06-17 13:34:14,228] Trial 6 finished with value: 0.6880616174582799 and parameters: {'reg_alpha': 1.1393237505370685e-06, 'reg_lambda': 2.8290134609524352e-06, 'num_leaves': 231, 'learning_rate': 0.05428959460075924, 'max_depth': 19, 'colsample_bytree': 0.09701760484822311, 'subsample': 0.747610443625731, 'min_child_samples': 1, 'subsample_freq': 1}. Best is trial 5 with value: 0.7528883183568679.\n",
      "[I 2023-06-17 13:34:14,360] Trial 7 finished with value: 0.7265725288831836 and parameters: {'reg_alpha': 4.293252027830692e-06, 'reg_lambda': 6.003048962738638e-06, 'num_leaves': 204, 'learning_rate': 0.08577091924086043, 'max_depth': 32, 'colsample_bytree': 0.011906863234003065, 'subsample': 0.5313684227695668, 'min_child_samples': 12, 'subsample_freq': 4}. Best is trial 5 with value: 0.7528883183568679.\n",
      "[I 2023-06-17 13:34:14,533] Trial 8 finished with value: 0.607188703465982 and parameters: {'reg_alpha': 8.547713460570772e-06, 'reg_lambda': 1.786423399920629e-06, 'num_leaves': 234, 'learning_rate': 0.02004922688689454, 'max_depth': 33, 'colsample_bytree': 0.058618875197461874, 'subsample': 0.9347175747125706, 'min_child_samples': 13, 'subsample_freq': 3}. Best is trial 5 with value: 0.7528883183568679.\n",
      "[I 2023-06-17 13:34:14,640] Trial 9 finished with value: 0.6335044929396663 and parameters: {'reg_alpha': 3.435893063029137e-06, 'reg_lambda': 8.037712268634104e-06, 'num_leaves': 247, 'learning_rate': 0.037446162368450546, 'max_depth': 48, 'colsample_bytree': 0.09121749567040516, 'subsample': 0.12181927425113656, 'min_child_samples': 12, 'subsample_freq': 10}. Best is trial 5 with value: 0.7528883183568679.\n",
      "[I 2023-06-17 13:34:14,913] Trial 10 finished with value: 0.7124518613607188 and parameters: {'reg_alpha': 9.4849667628316e-06, 'reg_lambda': 9.780046753783228e-06, 'num_leaves': 297, 'learning_rate': 0.07282585402426092, 'max_depth': 11, 'colsample_bytree': 0.046422302231261946, 'subsample': 0.6487837928357725, 'min_child_samples': 7, 'subsample_freq': 6}. Best is trial 5 with value: 0.7528883183568679.\n",
      "[I 2023-06-17 13:34:15,170] Trial 11 finished with value: 0.7265725288831836 and parameters: {'reg_alpha': 5.816411698360145e-06, 'reg_lambda': 5.7538623436793445e-06, 'num_leaves': 279, 'learning_rate': 0.07619866025883058, 'max_depth': 20, 'colsample_bytree': 0.01167942674371728, 'subsample': 0.5265652996846099, 'min_child_samples': 15, 'subsample_freq': 2}. Best is trial 5 with value: 0.7528883183568679.\n",
      "[I 2023-06-17 13:34:15,468] Trial 12 finished with value: 0.7650834403080873 and parameters: {'reg_alpha': 6.69335428240185e-06, 'reg_lambda': 9.74374601120624e-06, 'num_leaves': 206, 'learning_rate': 0.09288693970361951, 'max_depth': 22, 'colsample_bytree': 0.011859147818738178, 'subsample': 0.5247167772372816, 'min_child_samples': 9, 'subsample_freq': 6}. Best is trial 12 with value: 0.7650834403080873.\n",
      "[I 2023-06-17 13:34:15,787] Trial 13 finished with value: 0.738767650834403 and parameters: {'reg_alpha': 6.953964103105656e-06, 'reg_lambda': 9.943306076039423e-06, 'num_leaves': 273, 'learning_rate': 0.09971687673934809, 'max_depth': 12, 'colsample_bytree': 0.031348457122249, 'subsample': 0.4304307793124693, 'min_child_samples': 8, 'subsample_freq': 6}. Best is trial 12 with value: 0.7650834403080873.\n",
      "[I 2023-06-17 13:34:16,177] Trial 14 finished with value: 0.738767650834403 and parameters: {'reg_alpha': 7.128518019355255e-06, 'reg_lambda': 8.5714444133294e-06, 'num_leaves': 209, 'learning_rate': 0.0673232134099921, 'max_depth': 20, 'colsample_bytree': 0.04568704849623296, 'subsample': 0.6680358099866621, 'min_child_samples': 5, 'subsample_freq': 6}. Best is trial 12 with value: 0.7650834403080873.\n",
      "[I 2023-06-17 13:34:16,491] Trial 15 finished with value: 0.7265725288831836 and parameters: {'reg_alpha': 5.747667714861605e-06, 'reg_lambda': 9.999110083075624e-06, 'num_leaves': 298, 'learning_rate': 0.06144670000469643, 'max_depth': 25, 'colsample_bytree': 0.020338447665204075, 'subsample': 0.8302928885008847, 'min_child_samples': 16, 'subsample_freq': 5}. Best is trial 12 with value: 0.7650834403080873.\n",
      "[I 2023-06-17 13:34:16,735] Trial 16 finished with value: 0.6861360718870345 and parameters: {'reg_alpha': 8.188206901810313e-06, 'reg_lambda': 8.060626898225589e-06, 'num_leaves': 263, 'learning_rate': 0.08162978250523437, 'max_depth': 17, 'colsample_bytree': 0.03395671958172401, 'subsample': 0.5939923190174299, 'min_child_samples': 10, 'subsample_freq': 7}. Best is trial 12 with value: 0.7650834403080873.\n",
      "[I 2023-06-17 13:34:17,163] Trial 17 finished with value: 0.7265725288831836 and parameters: {'reg_alpha': 2.4745894252419305e-06, 'reg_lambda': 7.33362961621954e-06, 'num_leaves': 218, 'learning_rate': 0.09809899072602143, 'max_depth': 26, 'colsample_bytree': 0.0101507540686873, 'subsample': 0.8370272435969148, 'min_child_samples': 10, 'subsample_freq': 2}. Best is trial 12 with value: 0.7650834403080873.\n",
      "[I 2023-06-17 13:34:17,470] Trial 18 finished with value: 0.7002567394094994 and parameters: {'reg_alpha': 4.7784032890908e-06, 'reg_lambda': 8.897264705814403e-06, 'num_leaves': 191, 'learning_rate': 0.06707970282419422, 'max_depth': 15, 'colsample_bytree': 0.022315588778219743, 'subsample': 0.4454963337837899, 'min_child_samples': 14, 'subsample_freq': 5}. Best is trial 12 with value: 0.7650834403080873.\n",
      "[I 2023-06-17 13:34:17,745] Trial 19 finished with value: 0.7002567394094994 and parameters: {'reg_alpha': 6.262784500821317e-06, 'reg_lambda': 2.474053822659266e-07, 'num_leaves': 243, 'learning_rate': 0.08939467295524635, 'max_depth': 24, 'colsample_bytree': 0.038875254943064666, 'subsample': 0.6372633172864225, 'min_child_samples': 18, 'subsample_freq': 7}. Best is trial 12 with value: 0.7650834403080873.\n",
      "[I 2023-06-17 13:34:18,023] Trial 20 finished with value: 0.6598202824133504 and parameters: {'reg_alpha': 4.62790420022871e-06, 'reg_lambda': 9.320443540040562e-06, 'num_leaves': 151, 'learning_rate': 0.07832923274256272, 'max_depth': 40, 'colsample_bytree': 0.060983252696281035, 'subsample': 0.3392734212121398, 'min_child_samples': 5, 'subsample_freq': 3}. Best is trial 12 with value: 0.7650834403080873.\n",
      "[I 2023-06-17 13:34:18,269] Trial 21 finished with value: 0.7548138639281129 and parameters: {'reg_alpha': 6.725748433215042e-06, 'reg_lambda': 9.752542949146493e-06, 'num_leaves': 272, 'learning_rate': 0.09911566128935745, 'max_depth': 14, 'colsample_bytree': 0.025657074287072073, 'subsample': 0.46671673837583094, 'min_child_samples': 8, 'subsample_freq': 7}. Best is trial 12 with value: 0.7650834403080873.\n",
      "[I 2023-06-17 13:34:18,520] Trial 22 finished with value: 0.7124518613607188 and parameters: {'reg_alpha': 6.386977603325753e-06, 'reg_lambda': 8.95361428998238e-06, 'num_leaves': 285, 'learning_rate': 0.09414693504949792, 'max_depth': 14, 'colsample_bytree': 0.019000538432225572, 'subsample': 0.5504483876697461, 'min_child_samples': 11, 'subsample_freq': 7}. Best is trial 12 with value: 0.7650834403080873.\n",
      "[I 2023-06-17 13:34:18,741] Trial 23 finished with value: 0.7124518613607188 and parameters: {'reg_alpha': 5.056908496160793e-06, 'reg_lambda': 7.92202812105847e-06, 'num_leaves': 253, 'learning_rate': 0.0887606273064627, 'max_depth': 21, 'colsample_bytree': 0.026100684736293484, 'subsample': 0.4862726819745633, 'min_child_samples': 9, 'subsample_freq': 8}. Best is trial 12 with value: 0.7650834403080873.\n",
      "[I 2023-06-17 13:34:19,036] Trial 24 finished with value: 0.7002567394094994 and parameters: {'reg_alpha': 7.792629766067361e-06, 'reg_lambda': 9.936907858420925e-06, 'num_leaves': 269, 'learning_rate': 0.09962056040645303, 'max_depth': 10, 'colsample_bytree': 0.018475588938629158, 'subsample': 0.3688153779372023, 'min_child_samples': 6, 'subsample_freq': 5}. Best is trial 12 with value: 0.7650834403080873.\n",
      "[I 2023-06-17 13:34:19,343] Trial 25 finished with value: 0.6861360718870345 and parameters: {'reg_alpha': 6.074322005822748e-06, 'reg_lambda': 9.074499835315332e-06, 'num_leaves': 224, 'learning_rate': 0.08357944393324926, 'max_depth': 17, 'colsample_bytree': 0.039445355151518924, 'subsample': 0.60200877111092, 'min_child_samples': 11, 'subsample_freq': 7}. Best is trial 12 with value: 0.7650834403080873.\n",
      "[I 2023-06-17 13:34:19,669] Trial 26 finished with value: 0.7002567394094994 and parameters: {'reg_alpha': 5.359879666220161e-06, 'reg_lambda': 7.784288501310642e-06, 'num_leaves': 286, 'learning_rate': 0.09274121994744042, 'max_depth': 28, 'colsample_bytree': 0.027667473773856817, 'subsample': 0.4913948622152159, 'min_child_samples': 4, 'subsample_freq': 9}. Best is trial 12 with value: 0.7650834403080873.\n",
      "[I 2023-06-17 13:34:20,020] Trial 27 finished with value: 0.7002567394094994 and parameters: {'reg_alpha': 7.781349139299146e-06, 'reg_lambda': 8.589688421073841e-06, 'num_leaves': 191, 'learning_rate': 0.08411876647774123, 'max_depth': 22, 'colsample_bytree': 0.01759890745025341, 'subsample': 0.6971648416911991, 'min_child_samples': 8, 'subsample_freq': 6}. Best is trial 12 with value: 0.7650834403080873.\n",
      "[I 2023-06-17 13:34:20,299] Trial 28 finished with value: 0.738767650834403 and parameters: {'reg_alpha': 9.396013836606607e-06, 'reg_lambda': 9.418010190327862e-06, 'num_leaves': 236, 'learning_rate': 0.07722851640995727, 'max_depth': 15, 'colsample_bytree': 0.03385857568006434, 'subsample': 0.5478879610891895, 'min_child_samples': 13, 'subsample_freq': 3}. Best is trial 12 with value: 0.7650834403080873.\n",
      "[I 2023-06-17 13:34:20,532] Trial 29 finished with value: 0.7650834403080873 and parameters: {'reg_alpha': 6.493645831303037e-06, 'reg_lambda': 7.25038279414387e-06, 'num_leaves': 264, 'learning_rate': 0.09137729672464998, 'max_depth': 37, 'colsample_bytree': 0.028534227900319654, 'subsample': 0.32912352782141197, 'min_child_samples': 17, 'subsample_freq': 9}. Best is trial 12 with value: 0.7650834403080873.\n",
      "[I 2023-06-17 13:34:20,783] Trial 30 finished with value: 0.738767650834403 and parameters: {'reg_alpha': 6.547920495520985e-06, 'reg_lambda': 7.115213320229354e-06, 'num_leaves': 260, 'learning_rate': 0.09249284890138831, 'max_depth': 39, 'colsample_bytree': 0.025107747310274167, 'subsample': 0.3014677072562971, 'min_child_samples': 19, 'subsample_freq': 10}. Best is trial 12 with value: 0.7650834403080873.\n",
      "[I 2023-06-17 13:34:20,993] Trial 31 finished with value: 0.803594351732991 and parameters: {'reg_alpha': 5.466722266660606e-06, 'reg_lambda': 9.368741367548251e-06, 'num_leaves': 269, 'learning_rate': 0.08910079912479407, 'max_depth': 37, 'colsample_bytree': 0.029629249652321058, 'subsample': 0.2724619458652722, 'min_child_samples': 17, 'subsample_freq': 9}. Best is trial 31 with value: 0.803594351732991.\n",
      "[I 2023-06-17 13:34:21,369] Trial 32 finished with value: 0.7246469833119383 and parameters: {'reg_alpha': 7.068499799643547e-06, 'reg_lambda': 8.52375728658937e-06, 'num_leaves': 286, 'learning_rate': 0.09270049521821348, 'max_depth': 37, 'colsample_bytree': 0.029807263631649886, 'subsample': 0.2539346129786737, 'min_child_samples': 17, 'subsample_freq': 9}. Best is trial 31 with value: 0.803594351732991.\n",
      "[I 2023-06-17 13:34:21,689] Trial 33 finished with value: 0.738767650834403 and parameters: {'reg_alpha': 6.653956626237971e-06, 'reg_lambda': 9.190729180144734e-06, 'num_leaves': 248, 'learning_rate': 0.08963318005409251, 'max_depth': 44, 'colsample_bytree': 0.0163478625124283, 'subsample': 0.38467106196945394, 'min_child_samples': 19, 'subsample_freq': 8}. Best is trial 31 with value: 0.803594351732991.\n",
      "[I 2023-06-17 13:34:22,227] Trial 34 finished with value: 0.7265725288831836 and parameters: {'reg_alpha': 6.003717997341686e-06, 'reg_lambda': 6.637393423228901e-06, 'num_leaves': 261, 'learning_rate': 0.0956957222276708, 'max_depth': 44, 'colsample_bytree': 0.026763691997154303, 'subsample': 0.21313532808462127, 'min_child_samples': 17, 'subsample_freq': 9}. Best is trial 31 with value: 0.803594351732991.\n",
      "[I 2023-06-17 13:34:22,594] Trial 35 finished with value: 0.738767650834403 and parameters: {'reg_alpha': 5.43017556984322e-06, 'reg_lambda': 7.510393787881908e-06, 'num_leaves': 174, 'learning_rate': 0.08667544666408637, 'max_depth': 36, 'colsample_bytree': 0.02253940155685587, 'subsample': 0.40761038074927625, 'min_child_samples': 20, 'subsample_freq': 8}. Best is trial 31 with value: 0.803594351732991.\n",
      "[I 2023-06-17 13:34:22,962] Trial 36 finished with value: 0.7792041078305519 and parameters: {'reg_alpha': 7.368486091313521e-06, 'reg_lambda': 8.325882739364152e-06, 'num_leaves': 218, 'learning_rate': 0.08157548948090343, 'max_depth': 31, 'colsample_bytree': 0.015510165636043089, 'subsample': 0.3466047198201009, 'min_child_samples': 9, 'subsample_freq': 10}. Best is trial 31 with value: 0.803594351732991.\n",
      "[I 2023-06-17 13:34:23,377] Trial 37 finished with value: 0.6880616174582799 and parameters: {'reg_alpha': 7.388601136588045e-06, 'reg_lambda': 8.230951253482362e-06, 'num_leaves': 215, 'learning_rate': 0.0822990830013581, 'max_depth': 31, 'colsample_bytree': 0.014393163243459236, 'subsample': 0.3170396659177778, 'min_child_samples': 2, 'subsample_freq': 10}. Best is trial 31 with value: 0.803594351732991.\n",
      "[I 2023-06-17 13:34:23,627] Trial 38 finished with value: 0.7509627727856225 and parameters: {'reg_alpha': 7.511244273375415e-06, 'reg_lambda': 7.4529702079042836e-06, 'num_leaves': 198, 'learning_rate': 0.0799416477151411, 'max_depth': 29, 'colsample_bytree': 0.013773994918027714, 'subsample': 0.1892157214162785, 'min_child_samples': 15, 'subsample_freq': 10}. Best is trial 31 with value: 0.803594351732991.\n",
      "[I 2023-06-17 13:34:23,949] Trial 39 finished with value: 0.7124518613607188 and parameters: {'reg_alpha': 8.818679845974143e-06, 'reg_lambda': 8.628826233245164e-06, 'num_leaves': 223, 'learning_rate': 0.07345776834786186, 'max_depth': 35, 'colsample_bytree': 0.010234270415890472, 'subsample': 0.2777964384677663, 'min_child_samples': 9, 'subsample_freq': 9}. Best is trial 31 with value: 0.803594351732991.\n",
      "[I 2023-06-17 13:34:24,316] Trial 40 finished with value: 0.7913992297817715 and parameters: {'reg_alpha': 5.503498466927932e-06, 'reg_lambda': 6.873412339356124e-06, 'num_leaves': 211, 'learning_rate': 0.0871267131600589, 'max_depth': 42, 'colsample_bytree': 0.020495949250849993, 'subsample': 0.35879280785624285, 'min_child_samples': 12, 'subsample_freq': 8}. Best is trial 31 with value: 0.803594351732991.\n",
      "[I 2023-06-17 13:34:24,623] Trial 41 finished with value: 0.738767650834403 and parameters: {'reg_alpha': 6.018149859879682e-06, 'reg_lambda': 6.596853239447021e-06, 'num_leaves': 186, 'learning_rate': 0.08696508553436944, 'max_depth': 43, 'colsample_bytree': 0.016581773452411484, 'subsample': 0.3469633480278657, 'min_child_samples': 12, 'subsample_freq': 8}. Best is trial 31 with value: 0.803594351732991.\n",
      "[I 2023-06-17 13:34:24,875] Trial 42 finished with value: 0.7528883183568679 and parameters: {'reg_alpha': 5.257528353001609e-06, 'reg_lambda': 6.971666732961315e-06, 'num_leaves': 211, 'learning_rate': 0.09192941600896094, 'max_depth': 50, 'colsample_bytree': 0.01931179337734003, 'subsample': 0.38581905800233984, 'min_child_samples': 17, 'subsample_freq': 10}. Best is trial 31 with value: 0.803594351732991.\n",
      "[I 2023-06-17 13:34:25,121] Trial 43 finished with value: 0.7650834403080873 and parameters: {'reg_alpha': 4.409206216257303e-06, 'reg_lambda': 8.129028799669609e-06, 'num_leaves': 200, 'learning_rate': 0.08703426360654955, 'max_depth': 38, 'colsample_bytree': 0.02220650935851224, 'subsample': 0.300354751938199, 'min_child_samples': 15, 'subsample_freq': 9}. Best is trial 31 with value: 0.803594351732991.\n",
      "[I 2023-06-17 13:34:25,393] Trial 44 finished with value: 0.6335044929396663 and parameters: {'reg_alpha': 5.633893780807271e-06, 'reg_lambda': 6.111951056372995e-06, 'num_leaves': 230, 'learning_rate': 0.09608586961750562, 'max_depth': 33, 'colsample_bytree': 0.015000138891773221, 'subsample': 0.4195814409958847, 'min_child_samples': 7, 'subsample_freq': 9}. Best is trial 31 with value: 0.803594351732991.\n",
      "[I 2023-06-17 13:34:25,626] Trial 45 finished with value: 0.8177150192554556 and parameters: {'reg_alpha': 6.833177329036985e-06, 'reg_lambda': 4.958487110482849e-06, 'num_leaves': 241, 'learning_rate': 0.08139171493009001, 'max_depth': 42, 'colsample_bytree': 0.032120190527832874, 'subsample': 0.2178632721062016, 'min_child_samples': 13, 'subsample_freq': 10}. Best is trial 45 with value: 0.8177150192554556.\n",
      "[I 2023-06-17 13:34:25,850] Trial 46 finished with value: 0.6861360718870345 and parameters: {'reg_alpha': 7.038037987216774e-06, 'reg_lambda': 4.7911873670578926e-06, 'num_leaves': 240, 'learning_rate': 0.08131293697090068, 'max_depth': 41, 'colsample_bytree': 0.031802377254478195, 'subsample': 0.17290031554397695, 'min_child_samples': 13, 'subsample_freq': 10}. Best is trial 45 with value: 0.8177150192554556.\n",
      "[I 2023-06-17 13:34:26,089] Trial 47 finished with value: 0.7528883183568679 and parameters: {'reg_alpha': 5.6457552124640885e-06, 'reg_lambda': 5.55199619086776e-06, 'num_leaves': 170, 'learning_rate': 0.07459939789965549, 'max_depth': 46, 'colsample_bytree': 0.02296107963848295, 'subsample': 0.2615735963006692, 'min_child_samples': 9, 'subsample_freq': 8}. Best is trial 45 with value: 0.8177150192554556.\n",
      "[I 2023-06-17 13:34:26,328] Trial 48 finished with value: 0.7913992297817715 and parameters: {'reg_alpha': 4.1861800647397456e-06, 'reg_lambda': 4.023977409676484e-06, 'num_leaves': 218, 'learning_rate': 0.0706396693917404, 'max_depth': 42, 'colsample_bytree': 0.014229865187637207, 'subsample': 0.22393357539941627, 'min_child_samples': 12, 'subsample_freq': 10}. Best is trial 45 with value: 0.8177150192554556.\n",
      "[I 2023-06-17 13:34:26,541] Trial 49 finished with value: 0.67201540436457 and parameters: {'reg_alpha': 3.910713544720314e-06, 'reg_lambda': 4.27447445066336e-06, 'num_leaves': 228, 'learning_rate': 0.07110659396501755, 'max_depth': 47, 'colsample_bytree': 0.01408413399504038, 'subsample': 0.10730180445304276, 'min_child_samples': 12, 'subsample_freq': 10}. Best is trial 45 with value: 0.8177150192554556.\n",
      "[I 2023-06-17 13:34:26,780] Trial 50 finished with value: 0.7650834403080873 and parameters: {'reg_alpha': 4.903139029468073e-06, 'reg_lambda': 4.180964087613467e-06, 'num_leaves': 218, 'learning_rate': 0.07778698777857929, 'max_depth': 42, 'colsample_bytree': 0.020817516177103736, 'subsample': 0.22654113872738554, 'min_child_samples': 14, 'subsample_freq': 10}. Best is trial 45 with value: 0.8177150192554556.\n",
      "[I 2023-06-17 13:34:27,163] Trial 51 finished with value: 0.7528883183568679 and parameters: {'reg_alpha': 4.1815920844525684e-06, 'reg_lambda': 5.163266357620727e-06, 'num_leaves': 206, 'learning_rate': 0.08430589206918249, 'max_depth': 45, 'colsample_bytree': 0.010242820568928597, 'subsample': 0.16231426614989067, 'min_child_samples': 11, 'subsample_freq': 10}. Best is trial 45 with value: 0.8177150192554556.\n",
      "[I 2023-06-17 13:34:27,572] Trial 52 finished with value: 0.6983311938382541 and parameters: {'reg_alpha': 6.248425462024658e-06, 'reg_lambda': 3.6511537345323593e-06, 'num_leaves': 212, 'learning_rate': 0.07931088039121094, 'max_depth': 40, 'colsample_bytree': 0.014000476282206582, 'subsample': 0.24338514147331108, 'min_child_samples': 10, 'subsample_freq': 9}. Best is trial 45 with value: 0.8177150192554556.\n",
      "[I 2023-06-17 13:34:27,875] Trial 53 finished with value: 0.7124518613607188 and parameters: {'reg_alpha': 6.7450474527517294e-06, 'reg_lambda': 9.615659491562484e-06, 'num_leaves': 221, 'learning_rate': 0.08497587981309207, 'max_depth': 42, 'colsample_bytree': 0.01841747099583769, 'subsample': 0.28314463940873, 'min_child_samples': 13, 'subsample_freq': 8}. Best is trial 45 with value: 0.8177150192554556.\n",
      "[I 2023-06-17 13:34:28,220] Trial 54 finished with value: 0.6983311938382541 and parameters: {'reg_alpha': 4.975630581861971e-06, 'reg_lambda': 9.542221781376732e-06, 'num_leaves': 200, 'learning_rate': 0.06978084271856716, 'max_depth': 34, 'colsample_bytree': 0.023814181173274097, 'subsample': 0.1512436733806693, 'min_child_samples': 7, 'subsample_freq': 9}. Best is trial 45 with value: 0.8177150192554556.\n",
      "[I 2023-06-17 13:34:28,599] Trial 55 finished with value: 0.7792041078305519 and parameters: {'reg_alpha': 3.3304734512029055e-06, 'reg_lambda': 8.947134469005305e-06, 'num_leaves': 235, 'learning_rate': 0.07523170507184522, 'max_depth': 31, 'colsample_bytree': 0.01267343206942688, 'subsample': 0.222434007139356, 'min_child_samples': 10, 'subsample_freq': 10}. Best is trial 45 with value: 0.8177150192554556.\n",
      "[I 2023-06-17 13:34:28,833] Trial 56 finished with value: 0.7913992297817715 and parameters: {'reg_alpha': 3.5269910466663763e-06, 'reg_lambda': 8.917639415544314e-06, 'num_leaves': 234, 'learning_rate': 0.07500809247443548, 'max_depth': 30, 'colsample_bytree': 0.030935845287178042, 'subsample': 0.23753319965265177, 'min_child_samples': 12, 'subsample_freq': 10}. Best is trial 45 with value: 0.8177150192554556.\n",
      "[I 2023-06-17 13:34:29,064] Trial 57 finished with value: 0.7913992297817715 and parameters: {'reg_alpha': 3.682325912445872e-06, 'reg_lambda': 7.676518277830257e-06, 'num_leaves': 252, 'learning_rate': 0.06272663655341268, 'max_depth': 27, 'colsample_bytree': 0.030569892556229546, 'subsample': 0.2145873490475823, 'min_child_samples': 12, 'subsample_freq': 10}. Best is trial 45 with value: 0.8177150192554556.\n",
      "[I 2023-06-17 13:34:29,262] Trial 58 finished with value: 0.6456996148908858 and parameters: {'reg_alpha': 2.853345660570886e-06, 'reg_lambda': 7.821884878631593e-06, 'num_leaves': 253, 'learning_rate': 0.06388624642731093, 'max_depth': 27, 'colsample_bytree': 0.036129056527159115, 'subsample': 0.14415789443230226, 'min_child_samples': 14, 'subsample_freq': 9}. Best is trial 45 with value: 0.8177150192554556.\n",
      "[I 2023-06-17 13:34:29,510] Trial 59 finished with value: 0.738767650834403 and parameters: {'reg_alpha': 4.483711199056706e-06, 'reg_lambda': 6.157321303495562e-06, 'num_leaves': 247, 'learning_rate': 0.055801751223226746, 'max_depth': 48, 'colsample_bytree': 0.029618865236394697, 'subsample': 0.19813658770884865, 'min_child_samples': 12, 'subsample_freq': 10}. Best is trial 45 with value: 0.8177150192554556.\n",
      "[I 2023-06-17 13:34:29,722] Trial 60 finished with value: 0.7124518613607188 and parameters: {'reg_alpha': 3.865205026368242e-06, 'reg_lambda': 6.650822966527391e-06, 'num_leaves': 242, 'learning_rate': 0.07095236380781746, 'max_depth': 24, 'colsample_bytree': 0.04229492696718241, 'subsample': 0.2334985599829437, 'min_child_samples': 16, 'subsample_freq': 10}. Best is trial 45 with value: 0.8177150192554556.\n",
      "[I 2023-06-17 13:34:29,963] Trial 61 finished with value: 0.7265725288831836 and parameters: {'reg_alpha': 3.601228784321972e-06, 'reg_lambda': 8.389755567725043e-06, 'num_leaves': 228, 'learning_rate': 0.07537366948543428, 'max_depth': 30, 'colsample_bytree': 0.03199432130916533, 'subsample': 0.27061282419326127, 'min_child_samples': 11, 'subsample_freq': 10}. Best is trial 45 with value: 0.8177150192554556.\n",
      "[I 2023-06-17 13:34:30,174] Trial 62 finished with value: 0.7124518613607188 and parameters: {'reg_alpha': 4.68769145350399e-06, 'reg_lambda': 8.745858999585013e-06, 'num_leaves': 255, 'learning_rate': 0.06629864473936399, 'max_depth': 39, 'colsample_bytree': 0.02648286216827223, 'subsample': 0.18680660890479703, 'min_child_samples': 14, 'subsample_freq': 9}. Best is trial 45 with value: 0.8177150192554556.\n",
      "[I 2023-06-17 13:34:30,394] Trial 63 finished with value: 0.7528883183568679 and parameters: {'reg_alpha': 3.1188305916920367e-06, 'reg_lambda': 7.714464546725388e-06, 'num_leaves': 232, 'learning_rate': 0.07948345601288588, 'max_depth': 32, 'colsample_bytree': 0.03628707638728464, 'subsample': 0.3466131114871879, 'min_child_samples': 12, 'subsample_freq': 10}. Best is trial 45 with value: 0.8177150192554556.\n",
      "[I 2023-06-17 13:34:30,624] Trial 64 finished with value: 0.6983311938382541 and parameters: {'reg_alpha': 4.177402494961643e-06, 'reg_lambda': 9.151639365423851e-06, 'num_leaves': 237, 'learning_rate': 0.07346311139422722, 'max_depth': 28, 'colsample_bytree': 0.02865637249109588, 'subsample': 0.2030531805223943, 'min_child_samples': 13, 'subsample_freq': 9}. Best is trial 45 with value: 0.8177150192554556.\n",
      "[I 2023-06-17 13:34:30,886] Trial 65 finished with value: 0.7528883183568679 and parameters: {'reg_alpha': 5.11823615457713e-06, 'reg_lambda': 8.188668807292143e-06, 'num_leaves': 250, 'learning_rate': 0.08213679300948462, 'max_depth': 36, 'colsample_bytree': 0.024399543789586482, 'subsample': 0.30018551039317265, 'min_child_samples': 10, 'subsample_freq': 10}. Best is trial 45 with value: 0.8177150192554556.\n",
      "[I 2023-06-17 13:34:31,137] Trial 66 finished with value: 0.7124518613607188 and parameters: {'reg_alpha': 2.2182070931022907e-06, 'reg_lambda': 8.809679736808705e-06, 'num_leaves': 278, 'learning_rate': 0.060730532490875545, 'max_depth': 25, 'colsample_bytree': 0.020853314057234392, 'subsample': 0.24291640548773896, 'min_child_samples': 15, 'subsample_freq': 10}. Best is trial 45 with value: 0.8177150192554556.\n",
      "[I 2023-06-17 13:34:31,433] Trial 67 finished with value: 0.6739409499358152 and parameters: {'reg_alpha': 4.770436541285804e-06, 'reg_lambda': 9.35292058832319e-06, 'num_leaves': 267, 'learning_rate': 0.07690655249312715, 'max_depth': 41, 'colsample_bytree': 0.033388625503934885, 'subsample': 0.12592087961770887, 'min_child_samples': 11, 'subsample_freq': 9}. Best is trial 45 with value: 0.8177150192554556.\n",
      "[I 2023-06-17 13:34:31,714] Trial 68 finished with value: 0.738767650834403 and parameters: {'reg_alpha': 4.160945048939908e-06, 'reg_lambda': 7.537182300346973e-06, 'num_leaves': 219, 'learning_rate': 0.08837634128616055, 'max_depth': 38, 'colsample_bytree': 0.03008010801608094, 'subsample': 0.2673090305742272, 'min_child_samples': 12, 'subsample_freq': 8}. Best is trial 45 with value: 0.8177150192554556.\n",
      "[I 2023-06-17 13:34:32,007] Trial 69 finished with value: 0.7913992297817715 and parameters: {'reg_alpha': 3.6047904549948987e-06, 'reg_lambda': 8.341226736206467e-06, 'num_leaves': 245, 'learning_rate': 0.06839308680378803, 'max_depth': 33, 'colsample_bytree': 0.01680383527677016, 'subsample': 0.3242310531426571, 'min_child_samples': 13, 'subsample_freq': 9}. Best is trial 45 with value: 0.8177150192554556.\n",
      "[I 2023-06-17 13:34:32,293] Trial 70 finished with value: 0.6861360718870345 and parameters: {'reg_alpha': 3.5898175944470653e-06, 'reg_lambda': 7.8551664421891e-06, 'num_leaves': 242, 'learning_rate': 0.06819266691813823, 'max_depth': 43, 'colsample_bytree': 0.020161614050913598, 'subsample': 0.21357321537340776, 'min_child_samples': 13, 'subsample_freq': 9}. Best is trial 45 with value: 0.8177150192554556.\n",
      "[I 2023-06-17 13:34:32,828] Trial 71 finished with value: 0.7650834403080873 and parameters: {'reg_alpha': 4.572734862275405e-06, 'reg_lambda': 8.37373958808928e-06, 'num_leaves': 246, 'learning_rate': 0.07213056658823405, 'max_depth': 34, 'colsample_bytree': 0.025049360843253737, 'subsample': 0.30823099660945885, 'min_child_samples': 12, 'subsample_freq': 10}. Best is trial 45 with value: 0.8177150192554556.\n",
      "[I 2023-06-17 13:34:33,212] Trial 72 finished with value: 0.6861360718870345 and parameters: {'reg_alpha': 3.910743227137148e-06, 'reg_lambda': 8.086556477691357e-06, 'num_leaves': 257, 'learning_rate': 0.06517137575014685, 'max_depth': 30, 'colsample_bytree': 0.01714591544314907, 'subsample': 0.36303050166566564, 'min_child_samples': 13, 'subsample_freq': 9}. Best is trial 45 with value: 0.8177150192554556.\n",
      "[I 2023-06-17 13:34:33,534] Trial 73 finished with value: 0.7528883183568679 and parameters: {'reg_alpha': 5.337059326074386e-06, 'reg_lambda': 8.715914323793236e-06, 'num_leaves': 225, 'learning_rate': 0.07072140293683056, 'max_depth': 32, 'colsample_bytree': 0.016757300385110856, 'subsample': 0.24760387386533406, 'min_child_samples': 11, 'subsample_freq': 10}. Best is trial 45 with value: 0.8177150192554556.\n",
      "[I 2023-06-17 13:34:33,815] Trial 74 finished with value: 0.738767650834403 and parameters: {'reg_alpha': 3.0664381074209104e-06, 'reg_lambda': 9.055752281170607e-06, 'num_leaves': 215, 'learning_rate': 0.06836275742023559, 'max_depth': 27, 'colsample_bytree': 0.027325785359875156, 'subsample': 0.32220011489608785, 'min_child_samples': 14, 'subsample_freq': 9}. Best is trial 45 with value: 0.8177150192554556.\n",
      "[I 2023-06-17 13:34:34,067] Trial 75 finished with value: 0.7124518613607188 and parameters: {'reg_alpha': 3.5430401420861563e-06, 'reg_lambda': 7.215250245336369e-06, 'num_leaves': 232, 'learning_rate': 0.08036433759913221, 'max_depth': 29, 'colsample_bytree': 0.022699664336450827, 'subsample': 0.2902726071356899, 'min_child_samples': 14, 'subsample_freq': 1}. Best is trial 45 with value: 0.8177150192554556.\n",
      "[I 2023-06-17 13:34:34,318] Trial 76 finished with value: 0.7528883183568679 and parameters: {'reg_alpha': 4.369190457963379e-06, 'reg_lambda': 8.403882704422792e-06, 'num_leaves': 239, 'learning_rate': 0.08466923405846477, 'max_depth': 35, 'colsample_bytree': 0.012031616268681112, 'subsample': 0.3292460963143919, 'min_child_samples': 16, 'subsample_freq': 10}. Best is trial 45 with value: 0.8177150192554556.\n",
      "[I 2023-06-17 13:34:34,584] Trial 77 finished with value: 0.7124518613607188 and parameters: {'reg_alpha': 6.274107487125823e-06, 'reg_lambda': 9.403758428604548e-06, 'num_leaves': 274, 'learning_rate': 0.07705730311090644, 'max_depth': 33, 'colsample_bytree': 0.01856994565716151, 'subsample': 0.1848861662182153, 'min_child_samples': 8, 'subsample_freq': 8}. Best is trial 45 with value: 0.8177150192554556.\n",
      "[I 2023-06-17 13:34:34,897] Trial 78 finished with value: 0.7528883183568679 and parameters: {'reg_alpha': 5.846823084357077e-06, 'reg_lambda': 7.996378890914665e-06, 'num_leaves': 259, 'learning_rate': 0.08257868253677735, 'max_depth': 37, 'colsample_bytree': 0.020711552173137644, 'subsample': 0.25744411177322535, 'min_child_samples': 11, 'subsample_freq': 10}. Best is trial 45 with value: 0.8177150192554556.\n",
      "[I 2023-06-17 13:34:35,274] Trial 79 finished with value: 0.6861360718870345 and parameters: {'reg_alpha': 5.531376044298831e-06, 'reg_lambda': 7.648450400326647e-06, 'num_leaves': 225, 'learning_rate': 0.07425746818663381, 'max_depth': 31, 'colsample_bytree': 0.015317837312024638, 'subsample': 0.2811766452492479, 'min_child_samples': 9, 'subsample_freq': 9}. Best is trial 45 with value: 0.8177150192554556.\n",
      "[I 2023-06-17 13:34:35,722] Trial 80 finished with value: 0.7528883183568679 and parameters: {'reg_alpha': 5.082047229725197e-06, 'reg_lambda': 9.742796849557028e-06, 'num_leaves': 208, 'learning_rate': 0.08609623629816102, 'max_depth': 26, 'colsample_bytree': 0.02786763060174598, 'subsample': 0.3959653863334006, 'min_child_samples': 12, 'subsample_freq': 10}. Best is trial 45 with value: 0.8177150192554556.\n",
      "[I 2023-06-17 13:34:36,036] Trial 81 finished with value: 0.7913992297817715 and parameters: {'reg_alpha': 3.500159268362449e-06, 'reg_lambda': 9.115067724267246e-06, 'num_leaves': 235, 'learning_rate': 0.07592141083815848, 'max_depth': 31, 'colsample_bytree': 0.013357326811004298, 'subsample': 0.21438257939736807, 'min_child_samples': 10, 'subsample_freq': 10}. Best is trial 45 with value: 0.8177150192554556.\n",
      "[I 2023-06-17 13:34:36,307] Trial 82 finished with value: 0.7792041078305519 and parameters: {'reg_alpha': 3.7457007169003016e-06, 'reg_lambda': 8.937884178796169e-06, 'num_leaves': 244, 'learning_rate': 0.08918323385077676, 'max_depth': 29, 'colsample_bytree': 0.015072901809256647, 'subsample': 0.2219900862344286, 'min_child_samples': 10, 'subsample_freq': 10}. Best is trial 45 with value: 0.8177150192554556.\n",
      "[I 2023-06-17 13:34:36,595] Trial 83 finished with value: 0.7528883183568679 and parameters: {'reg_alpha': 3.3602550013310547e-06, 'reg_lambda': 8.545462951682e-06, 'num_leaves': 293, 'learning_rate': 0.0775412789248137, 'max_depth': 45, 'colsample_bytree': 0.012284907515173221, 'subsample': 0.19927002921060624, 'min_child_samples': 13, 'subsample_freq': 10}. Best is trial 45 with value: 0.8177150192554556.\n",
      "[I 2023-06-17 13:34:36,989] Trial 84 finished with value: 0.738767650834403 and parameters: {'reg_alpha': 4.082745907322114e-06, 'reg_lambda': 9.204840510574754e-06, 'num_leaves': 215, 'learning_rate': 0.08070929963564594, 'max_depth': 32, 'colsample_bytree': 0.017566684153219415, 'subsample': 0.16353489495542672, 'min_child_samples': 11, 'subsample_freq': 9}. Best is trial 45 with value: 0.8177150192554556.\n",
      "[I 2023-06-17 13:34:37,390] Trial 85 finished with value: 0.6739409499358152 and parameters: {'reg_alpha': 4.340843198622184e-06, 'reg_lambda': 8.276175044091635e-06, 'num_leaves': 251, 'learning_rate': 0.07263778399320646, 'max_depth': 35, 'colsample_bytree': 0.025077133667912213, 'subsample': 0.24463370534758005, 'min_child_samples': 10, 'subsample_freq': 7}. Best is trial 45 with value: 0.8177150192554556.\n",
      "[I 2023-06-17 13:34:37,780] Trial 86 finished with value: 0.7528883183568679 and parameters: {'reg_alpha': 2.8037577199566502e-06, 'reg_lambda': 8.782133686340415e-06, 'num_leaves': 236, 'learning_rate': 0.06934938204122297, 'max_depth': 40, 'colsample_bytree': 0.023629370061241474, 'subsample': 0.362804628654643, 'min_child_samples': 9, 'subsample_freq': 10}. Best is trial 45 with value: 0.8177150192554556.\n",
      "[I 2023-06-17 13:34:38,053] Trial 87 finished with value: 0.7246469833119383 and parameters: {'reg_alpha': 3.6878170211727976e-06, 'reg_lambda': 7.402271586911163e-06, 'num_leaves': 264, 'learning_rate': 0.07883380945713979, 'max_depth': 28, 'colsample_bytree': 0.010393414666074945, 'subsample': 0.316026375167769, 'min_child_samples': 18, 'subsample_freq': 8}. Best is trial 45 with value: 0.8177150192554556.\n",
      "[I 2023-06-17 13:34:38,413] Trial 88 finished with value: 0.7772785622593068 and parameters: {'reg_alpha': 6.799517092724115e-06, 'reg_lambda': 9.968687528233445e-06, 'num_leaves': 227, 'learning_rate': 0.08288345272976473, 'max_depth': 34, 'colsample_bytree': 0.021187001035922953, 'subsample': 0.2881305341505198, 'min_child_samples': 15, 'subsample_freq': 9}. Best is trial 45 with value: 0.8177150192554556.\n",
      "[I 2023-06-17 13:34:38,723] Trial 89 finished with value: 0.7528883183568679 and parameters: {'reg_alpha': 4.658281010349448e-06, 'reg_lambda': 9.511631054794294e-06, 'num_leaves': 195, 'learning_rate': 0.07576653721764243, 'max_depth': 39, 'colsample_bytree': 0.018823219202243058, 'subsample': 0.17542264035734328, 'min_child_samples': 6, 'subsample_freq': 10}. Best is trial 45 with value: 0.8177150192554556.\n",
      "[I 2023-06-17 13:34:39,077] Trial 90 finished with value: 0.7772785622593068 and parameters: {'reg_alpha': 7.3099449514776506e-06, 'reg_lambda': 8.025663547934411e-06, 'num_leaves': 231, 'learning_rate': 0.09078027682230941, 'max_depth': 42, 'colsample_bytree': 0.015695452306885026, 'subsample': 0.22589621116247366, 'min_child_samples': 12, 'subsample_freq': 9}. Best is trial 45 with value: 0.8177150192554556.\n",
      "[I 2023-06-17 13:34:39,430] Trial 91 finished with value: 0.7265725288831836 and parameters: {'reg_alpha': 3.25255532291131e-06, 'reg_lambda': 8.966007289540044e-06, 'num_leaves': 236, 'learning_rate': 0.07404421552051671, 'max_depth': 31, 'colsample_bytree': 0.013520049900379996, 'subsample': 0.2640984594680291, 'min_child_samples': 8, 'subsample_freq': 10}. Best is trial 45 with value: 0.8177150192554556.\n",
      "[I 2023-06-17 13:34:39,703] Trial 92 finished with value: 0.7265725288831836 and parameters: {'reg_alpha': 3.419790940235944e-06, 'reg_lambda': 8.53282485666143e-06, 'num_leaves': 221, 'learning_rate': 0.07187455881396201, 'max_depth': 30, 'colsample_bytree': 0.0137355702752298, 'subsample': 0.23192910587123355, 'min_child_samples': 10, 'subsample_freq': 10}. Best is trial 45 with value: 0.8177150192554556.\n",
      "[I 2023-06-17 13:34:39,976] Trial 93 finished with value: 0.7528883183568679 and parameters: {'reg_alpha': 3.967894128869646e-06, 'reg_lambda': 9.319090790476035e-06, 'num_leaves': 234, 'learning_rate': 0.0762392434542125, 'max_depth': 33, 'colsample_bytree': 0.012414838013362973, 'subsample': 0.20986708229928838, 'min_child_samples': 9, 'subsample_freq': 10}. Best is trial 45 with value: 0.8177150192554556.\n",
      "[I 2023-06-17 13:34:40,210] Trial 94 finished with value: 0.7265725288831836 and parameters: {'reg_alpha': 4.02703440566466e-06, 'reg_lambda': 8.98735912487149e-06, 'num_leaves': 239, 'learning_rate': 0.07854932460090203, 'max_depth': 31, 'colsample_bytree': 0.016521495289736125, 'subsample': 0.1318107852172427, 'min_child_samples': 11, 'subsample_freq': 10}. Best is trial 45 with value: 0.8177150192554556.\n",
      "[I 2023-06-17 13:34:40,534] Trial 95 finished with value: 0.67201540436457 and parameters: {'reg_alpha': 3.7538509157965855e-06, 'reg_lambda': 8.667786630002935e-06, 'num_leaves': 249, 'learning_rate': 0.07503709431938478, 'max_depth': 27, 'colsample_bytree': 0.01995842838856971, 'subsample': 0.1525127050409511, 'min_child_samples': 10, 'subsample_freq': 9}. Best is trial 45 with value: 0.8177150192554556.\n",
      "[I 2023-06-17 13:34:40,844] Trial 96 finished with value: 0.7528883183568679 and parameters: {'reg_alpha': 3.4454926629534653e-06, 'reg_lambda': 9.698369073949953e-06, 'num_leaves': 245, 'learning_rate': 0.08120556190831955, 'max_depth': 36, 'colsample_bytree': 0.03160221205085742, 'subsample': 0.34098054228531327, 'min_child_samples': 13, 'subsample_freq': 10}. Best is trial 45 with value: 0.8177150192554556.\n",
      "[I 2023-06-17 13:34:41,097] Trial 97 finished with value: 0.7528883183568679 and parameters: {'reg_alpha': 4.8698240752875666e-06, 'reg_lambda': 8.235088959163813e-06, 'num_leaves': 228, 'learning_rate': 0.08431429970145601, 'max_depth': 24, 'colsample_bytree': 0.01080518683571033, 'subsample': 0.2724648548002152, 'min_child_samples': 12, 'subsample_freq': 10}. Best is trial 45 with value: 0.8177150192554556.\n",
      "[I 2023-06-17 13:34:41,348] Trial 98 finished with value: 0.6861360718870345 and parameters: {'reg_alpha': 4.479433764818269e-06, 'reg_lambda': 9.25077855333062e-06, 'num_leaves': 212, 'learning_rate': 0.08721441190446041, 'max_depth': 30, 'colsample_bytree': 0.012724977309432514, 'subsample': 0.1842297494251861, 'min_child_samples': 10, 'subsample_freq': 9}. Best is trial 45 with value: 0.8177150192554556.\n",
      "[I 2023-06-17 13:34:41,592] Trial 99 finished with value: 0.7265725288831836 and parameters: {'reg_alpha': 5.828726264747135e-06, 'reg_lambda': 7.86110189452856e-06, 'num_leaves': 202, 'learning_rate': 0.0699043960988844, 'max_depth': 43, 'colsample_bytree': 0.02260743022163131, 'subsample': 0.21087651740497554, 'min_child_samples': 11, 'subsample_freq': 4}. Best is trial 45 with value: 0.8177150192554556.\n"
     ]
    },
    {
     "name": "stdout",
     "output_type": "stream",
     "text": [
      "CPU times: total: 2min 25s\n",
      "Wall time: 29.1 s\n"
     ]
    }
   ],
   "source": [
    "%%time\n",
    "\n",
    "# Create an Optuna study\n",
    "study = optuna.create_study(direction='maximize')\n",
    "study.optimize(objective, n_trials=100)"
   ]
  },
  {
   "attachments": {},
   "cell_type": "markdown",
   "metadata": {},
   "source": [
    "## Quick Visualization for Hyperparameter Optimization Analysis"
   ]
  },
  {
   "cell_type": "code",
   "execution_count": 9,
   "metadata": {},
   "outputs": [
    {
     "data": {
      "text/plain": [
       "{'reg_alpha': 6.833177329036985e-06,\n",
       " 'reg_lambda': 4.958487110482849e-06,\n",
       " 'num_leaves': 241,\n",
       " 'learning_rate': 0.08139171493009001,\n",
       " 'max_depth': 42,\n",
       " 'colsample_bytree': 0.032120190527832874,\n",
       " 'subsample': 0.2178632721062016,\n",
       " 'min_child_samples': 13,\n",
       " 'subsample_freq': 10}"
      ]
     },
     "execution_count": 9,
     "metadata": {},
     "output_type": "execute_result"
    }
   ],
   "source": [
    "# Get the best set of hyperparameters\n",
    "\n",
    "optimized_params = study.best_trial.params\n",
    "optimized_params"
   ]
  },
  {
   "cell_type": "code",
   "execution_count": 10,
   "metadata": {},
   "outputs": [
    {
     "data": {
      "application/vnd.plotly.v1+json": {
       "config": {
        "plotlyServerURL": "https://plot.ly"
       },
       "data": [
        {
         "mode": "markers",
         "name": "Objective Value",
         "type": "scatter",
         "x": [
          0,
          1,
          2,
          3,
          4,
          5,
          6,
          7,
          8,
          9,
          10,
          11,
          12,
          13,
          14,
          15,
          16,
          17,
          18,
          19,
          20,
          21,
          22,
          23,
          24,
          25,
          26,
          27,
          28,
          29,
          30,
          31,
          32,
          33,
          34,
          35,
          36,
          37,
          38,
          39,
          40,
          41,
          42,
          43,
          44,
          45,
          46,
          47,
          48,
          49,
          50,
          51,
          52,
          53,
          54,
          55,
          56,
          57,
          58,
          59,
          60,
          61,
          62,
          63,
          64,
          65,
          66,
          67,
          68,
          69,
          70,
          71,
          72,
          73,
          74,
          75,
          76,
          77,
          78,
          79,
          80,
          81,
          82,
          83,
          84,
          85,
          86,
          87,
          88,
          89,
          90,
          91,
          92,
          93,
          94,
          95,
          96,
          97,
          98,
          99
         ],
         "y": [
          0.7246469833119383,
          0.6861360718870345,
          0.5,
          0.5808729139922978,
          0.5667522464698331,
          0.7528883183568679,
          0.6880616174582799,
          0.7265725288831836,
          0.607188703465982,
          0.6335044929396663,
          0.7124518613607188,
          0.7265725288831836,
          0.7650834403080873,
          0.738767650834403,
          0.738767650834403,
          0.7265725288831836,
          0.6861360718870345,
          0.7265725288831836,
          0.7002567394094994,
          0.7002567394094994,
          0.6598202824133504,
          0.7548138639281129,
          0.7124518613607188,
          0.7124518613607188,
          0.7002567394094994,
          0.6861360718870345,
          0.7002567394094994,
          0.7002567394094994,
          0.738767650834403,
          0.7650834403080873,
          0.738767650834403,
          0.803594351732991,
          0.7246469833119383,
          0.738767650834403,
          0.7265725288831836,
          0.738767650834403,
          0.7792041078305519,
          0.6880616174582799,
          0.7509627727856225,
          0.7124518613607188,
          0.7913992297817715,
          0.738767650834403,
          0.7528883183568679,
          0.7650834403080873,
          0.6335044929396663,
          0.8177150192554556,
          0.6861360718870345,
          0.7528883183568679,
          0.7913992297817715,
          0.67201540436457,
          0.7650834403080873,
          0.7528883183568679,
          0.6983311938382541,
          0.7124518613607188,
          0.6983311938382541,
          0.7792041078305519,
          0.7913992297817715,
          0.7913992297817715,
          0.6456996148908858,
          0.738767650834403,
          0.7124518613607188,
          0.7265725288831836,
          0.7124518613607188,
          0.7528883183568679,
          0.6983311938382541,
          0.7528883183568679,
          0.7124518613607188,
          0.6739409499358152,
          0.738767650834403,
          0.7913992297817715,
          0.6861360718870345,
          0.7650834403080873,
          0.6861360718870345,
          0.7528883183568679,
          0.738767650834403,
          0.7124518613607188,
          0.7528883183568679,
          0.7124518613607188,
          0.7528883183568679,
          0.6861360718870345,
          0.7528883183568679,
          0.7913992297817715,
          0.7792041078305519,
          0.7528883183568679,
          0.738767650834403,
          0.6739409499358152,
          0.7528883183568679,
          0.7246469833119383,
          0.7772785622593068,
          0.7528883183568679,
          0.7772785622593068,
          0.7265725288831836,
          0.7265725288831836,
          0.7528883183568679,
          0.7265725288831836,
          0.67201540436457,
          0.7528883183568679,
          0.7528883183568679,
          0.6861360718870345,
          0.7265725288831836
         ]
        },
        {
         "name": "Best Value",
         "type": "scatter",
         "x": [
          0,
          1,
          2,
          3,
          4,
          5,
          6,
          7,
          8,
          9,
          10,
          11,
          12,
          13,
          14,
          15,
          16,
          17,
          18,
          19,
          20,
          21,
          22,
          23,
          24,
          25,
          26,
          27,
          28,
          29,
          30,
          31,
          32,
          33,
          34,
          35,
          36,
          37,
          38,
          39,
          40,
          41,
          42,
          43,
          44,
          45,
          46,
          47,
          48,
          49,
          50,
          51,
          52,
          53,
          54,
          55,
          56,
          57,
          58,
          59,
          60,
          61,
          62,
          63,
          64,
          65,
          66,
          67,
          68,
          69,
          70,
          71,
          72,
          73,
          74,
          75,
          76,
          77,
          78,
          79,
          80,
          81,
          82,
          83,
          84,
          85,
          86,
          87,
          88,
          89,
          90,
          91,
          92,
          93,
          94,
          95,
          96,
          97,
          98,
          99
         ],
         "y": [
          0.7246469833119383,
          0.7246469833119383,
          0.7246469833119383,
          0.7246469833119383,
          0.7246469833119383,
          0.7528883183568679,
          0.7528883183568679,
          0.7528883183568679,
          0.7528883183568679,
          0.7528883183568679,
          0.7528883183568679,
          0.7528883183568679,
          0.7650834403080873,
          0.7650834403080873,
          0.7650834403080873,
          0.7650834403080873,
          0.7650834403080873,
          0.7650834403080873,
          0.7650834403080873,
          0.7650834403080873,
          0.7650834403080873,
          0.7650834403080873,
          0.7650834403080873,
          0.7650834403080873,
          0.7650834403080873,
          0.7650834403080873,
          0.7650834403080873,
          0.7650834403080873,
          0.7650834403080873,
          0.7650834403080873,
          0.7650834403080873,
          0.803594351732991,
          0.803594351732991,
          0.803594351732991,
          0.803594351732991,
          0.803594351732991,
          0.803594351732991,
          0.803594351732991,
          0.803594351732991,
          0.803594351732991,
          0.803594351732991,
          0.803594351732991,
          0.803594351732991,
          0.803594351732991,
          0.803594351732991,
          0.8177150192554556,
          0.8177150192554556,
          0.8177150192554556,
          0.8177150192554556,
          0.8177150192554556,
          0.8177150192554556,
          0.8177150192554556,
          0.8177150192554556,
          0.8177150192554556,
          0.8177150192554556,
          0.8177150192554556,
          0.8177150192554556,
          0.8177150192554556,
          0.8177150192554556,
          0.8177150192554556,
          0.8177150192554556,
          0.8177150192554556,
          0.8177150192554556,
          0.8177150192554556,
          0.8177150192554556,
          0.8177150192554556,
          0.8177150192554556,
          0.8177150192554556,
          0.8177150192554556,
          0.8177150192554556,
          0.8177150192554556,
          0.8177150192554556,
          0.8177150192554556,
          0.8177150192554556,
          0.8177150192554556,
          0.8177150192554556,
          0.8177150192554556,
          0.8177150192554556,
          0.8177150192554556,
          0.8177150192554556,
          0.8177150192554556,
          0.8177150192554556,
          0.8177150192554556,
          0.8177150192554556,
          0.8177150192554556,
          0.8177150192554556,
          0.8177150192554556,
          0.8177150192554556,
          0.8177150192554556,
          0.8177150192554556,
          0.8177150192554556,
          0.8177150192554556,
          0.8177150192554556,
          0.8177150192554556,
          0.8177150192554556,
          0.8177150192554556,
          0.8177150192554556,
          0.8177150192554556,
          0.8177150192554556,
          0.8177150192554556
         ]
        }
       ],
       "layout": {
        "template": {
         "data": {
          "bar": [
           {
            "error_x": {
             "color": "#2a3f5f"
            },
            "error_y": {
             "color": "#2a3f5f"
            },
            "marker": {
             "line": {
              "color": "#E5ECF6",
              "width": 0.5
             },
             "pattern": {
              "fillmode": "overlay",
              "size": 10,
              "solidity": 0.2
             }
            },
            "type": "bar"
           }
          ],
          "barpolar": [
           {
            "marker": {
             "line": {
              "color": "#E5ECF6",
              "width": 0.5
             },
             "pattern": {
              "fillmode": "overlay",
              "size": 10,
              "solidity": 0.2
             }
            },
            "type": "barpolar"
           }
          ],
          "carpet": [
           {
            "aaxis": {
             "endlinecolor": "#2a3f5f",
             "gridcolor": "white",
             "linecolor": "white",
             "minorgridcolor": "white",
             "startlinecolor": "#2a3f5f"
            },
            "baxis": {
             "endlinecolor": "#2a3f5f",
             "gridcolor": "white",
             "linecolor": "white",
             "minorgridcolor": "white",
             "startlinecolor": "#2a3f5f"
            },
            "type": "carpet"
           }
          ],
          "choropleth": [
           {
            "colorbar": {
             "outlinewidth": 0,
             "ticks": ""
            },
            "type": "choropleth"
           }
          ],
          "contour": [
           {
            "colorbar": {
             "outlinewidth": 0,
             "ticks": ""
            },
            "colorscale": [
             [
              0,
              "#0d0887"
             ],
             [
              0.1111111111111111,
              "#46039f"
             ],
             [
              0.2222222222222222,
              "#7201a8"
             ],
             [
              0.3333333333333333,
              "#9c179e"
             ],
             [
              0.4444444444444444,
              "#bd3786"
             ],
             [
              0.5555555555555556,
              "#d8576b"
             ],
             [
              0.6666666666666666,
              "#ed7953"
             ],
             [
              0.7777777777777778,
              "#fb9f3a"
             ],
             [
              0.8888888888888888,
              "#fdca26"
             ],
             [
              1,
              "#f0f921"
             ]
            ],
            "type": "contour"
           }
          ],
          "contourcarpet": [
           {
            "colorbar": {
             "outlinewidth": 0,
             "ticks": ""
            },
            "type": "contourcarpet"
           }
          ],
          "heatmap": [
           {
            "colorbar": {
             "outlinewidth": 0,
             "ticks": ""
            },
            "colorscale": [
             [
              0,
              "#0d0887"
             ],
             [
              0.1111111111111111,
              "#46039f"
             ],
             [
              0.2222222222222222,
              "#7201a8"
             ],
             [
              0.3333333333333333,
              "#9c179e"
             ],
             [
              0.4444444444444444,
              "#bd3786"
             ],
             [
              0.5555555555555556,
              "#d8576b"
             ],
             [
              0.6666666666666666,
              "#ed7953"
             ],
             [
              0.7777777777777778,
              "#fb9f3a"
             ],
             [
              0.8888888888888888,
              "#fdca26"
             ],
             [
              1,
              "#f0f921"
             ]
            ],
            "type": "heatmap"
           }
          ],
          "heatmapgl": [
           {
            "colorbar": {
             "outlinewidth": 0,
             "ticks": ""
            },
            "colorscale": [
             [
              0,
              "#0d0887"
             ],
             [
              0.1111111111111111,
              "#46039f"
             ],
             [
              0.2222222222222222,
              "#7201a8"
             ],
             [
              0.3333333333333333,
              "#9c179e"
             ],
             [
              0.4444444444444444,
              "#bd3786"
             ],
             [
              0.5555555555555556,
              "#d8576b"
             ],
             [
              0.6666666666666666,
              "#ed7953"
             ],
             [
              0.7777777777777778,
              "#fb9f3a"
             ],
             [
              0.8888888888888888,
              "#fdca26"
             ],
             [
              1,
              "#f0f921"
             ]
            ],
            "type": "heatmapgl"
           }
          ],
          "histogram": [
           {
            "marker": {
             "pattern": {
              "fillmode": "overlay",
              "size": 10,
              "solidity": 0.2
             }
            },
            "type": "histogram"
           }
          ],
          "histogram2d": [
           {
            "colorbar": {
             "outlinewidth": 0,
             "ticks": ""
            },
            "colorscale": [
             [
              0,
              "#0d0887"
             ],
             [
              0.1111111111111111,
              "#46039f"
             ],
             [
              0.2222222222222222,
              "#7201a8"
             ],
             [
              0.3333333333333333,
              "#9c179e"
             ],
             [
              0.4444444444444444,
              "#bd3786"
             ],
             [
              0.5555555555555556,
              "#d8576b"
             ],
             [
              0.6666666666666666,
              "#ed7953"
             ],
             [
              0.7777777777777778,
              "#fb9f3a"
             ],
             [
              0.8888888888888888,
              "#fdca26"
             ],
             [
              1,
              "#f0f921"
             ]
            ],
            "type": "histogram2d"
           }
          ],
          "histogram2dcontour": [
           {
            "colorbar": {
             "outlinewidth": 0,
             "ticks": ""
            },
            "colorscale": [
             [
              0,
              "#0d0887"
             ],
             [
              0.1111111111111111,
              "#46039f"
             ],
             [
              0.2222222222222222,
              "#7201a8"
             ],
             [
              0.3333333333333333,
              "#9c179e"
             ],
             [
              0.4444444444444444,
              "#bd3786"
             ],
             [
              0.5555555555555556,
              "#d8576b"
             ],
             [
              0.6666666666666666,
              "#ed7953"
             ],
             [
              0.7777777777777778,
              "#fb9f3a"
             ],
             [
              0.8888888888888888,
              "#fdca26"
             ],
             [
              1,
              "#f0f921"
             ]
            ],
            "type": "histogram2dcontour"
           }
          ],
          "mesh3d": [
           {
            "colorbar": {
             "outlinewidth": 0,
             "ticks": ""
            },
            "type": "mesh3d"
           }
          ],
          "parcoords": [
           {
            "line": {
             "colorbar": {
              "outlinewidth": 0,
              "ticks": ""
             }
            },
            "type": "parcoords"
           }
          ],
          "pie": [
           {
            "automargin": true,
            "type": "pie"
           }
          ],
          "scatter": [
           {
            "fillpattern": {
             "fillmode": "overlay",
             "size": 10,
             "solidity": 0.2
            },
            "type": "scatter"
           }
          ],
          "scatter3d": [
           {
            "line": {
             "colorbar": {
              "outlinewidth": 0,
              "ticks": ""
             }
            },
            "marker": {
             "colorbar": {
              "outlinewidth": 0,
              "ticks": ""
             }
            },
            "type": "scatter3d"
           }
          ],
          "scattercarpet": [
           {
            "marker": {
             "colorbar": {
              "outlinewidth": 0,
              "ticks": ""
             }
            },
            "type": "scattercarpet"
           }
          ],
          "scattergeo": [
           {
            "marker": {
             "colorbar": {
              "outlinewidth": 0,
              "ticks": ""
             }
            },
            "type": "scattergeo"
           }
          ],
          "scattergl": [
           {
            "marker": {
             "colorbar": {
              "outlinewidth": 0,
              "ticks": ""
             }
            },
            "type": "scattergl"
           }
          ],
          "scattermapbox": [
           {
            "marker": {
             "colorbar": {
              "outlinewidth": 0,
              "ticks": ""
             }
            },
            "type": "scattermapbox"
           }
          ],
          "scatterpolar": [
           {
            "marker": {
             "colorbar": {
              "outlinewidth": 0,
              "ticks": ""
             }
            },
            "type": "scatterpolar"
           }
          ],
          "scatterpolargl": [
           {
            "marker": {
             "colorbar": {
              "outlinewidth": 0,
              "ticks": ""
             }
            },
            "type": "scatterpolargl"
           }
          ],
          "scatterternary": [
           {
            "marker": {
             "colorbar": {
              "outlinewidth": 0,
              "ticks": ""
             }
            },
            "type": "scatterternary"
           }
          ],
          "surface": [
           {
            "colorbar": {
             "outlinewidth": 0,
             "ticks": ""
            },
            "colorscale": [
             [
              0,
              "#0d0887"
             ],
             [
              0.1111111111111111,
              "#46039f"
             ],
             [
              0.2222222222222222,
              "#7201a8"
             ],
             [
              0.3333333333333333,
              "#9c179e"
             ],
             [
              0.4444444444444444,
              "#bd3786"
             ],
             [
              0.5555555555555556,
              "#d8576b"
             ],
             [
              0.6666666666666666,
              "#ed7953"
             ],
             [
              0.7777777777777778,
              "#fb9f3a"
             ],
             [
              0.8888888888888888,
              "#fdca26"
             ],
             [
              1,
              "#f0f921"
             ]
            ],
            "type": "surface"
           }
          ],
          "table": [
           {
            "cells": {
             "fill": {
              "color": "#EBF0F8"
             },
             "line": {
              "color": "white"
             }
            },
            "header": {
             "fill": {
              "color": "#C8D4E3"
             },
             "line": {
              "color": "white"
             }
            },
            "type": "table"
           }
          ]
         },
         "layout": {
          "annotationdefaults": {
           "arrowcolor": "#2a3f5f",
           "arrowhead": 0,
           "arrowwidth": 1
          },
          "autotypenumbers": "strict",
          "coloraxis": {
           "colorbar": {
            "outlinewidth": 0,
            "ticks": ""
           }
          },
          "colorscale": {
           "diverging": [
            [
             0,
             "#8e0152"
            ],
            [
             0.1,
             "#c51b7d"
            ],
            [
             0.2,
             "#de77ae"
            ],
            [
             0.3,
             "#f1b6da"
            ],
            [
             0.4,
             "#fde0ef"
            ],
            [
             0.5,
             "#f7f7f7"
            ],
            [
             0.6,
             "#e6f5d0"
            ],
            [
             0.7,
             "#b8e186"
            ],
            [
             0.8,
             "#7fbc41"
            ],
            [
             0.9,
             "#4d9221"
            ],
            [
             1,
             "#276419"
            ]
           ],
           "sequential": [
            [
             0,
             "#0d0887"
            ],
            [
             0.1111111111111111,
             "#46039f"
            ],
            [
             0.2222222222222222,
             "#7201a8"
            ],
            [
             0.3333333333333333,
             "#9c179e"
            ],
            [
             0.4444444444444444,
             "#bd3786"
            ],
            [
             0.5555555555555556,
             "#d8576b"
            ],
            [
             0.6666666666666666,
             "#ed7953"
            ],
            [
             0.7777777777777778,
             "#fb9f3a"
            ],
            [
             0.8888888888888888,
             "#fdca26"
            ],
            [
             1,
             "#f0f921"
            ]
           ],
           "sequentialminus": [
            [
             0,
             "#0d0887"
            ],
            [
             0.1111111111111111,
             "#46039f"
            ],
            [
             0.2222222222222222,
             "#7201a8"
            ],
            [
             0.3333333333333333,
             "#9c179e"
            ],
            [
             0.4444444444444444,
             "#bd3786"
            ],
            [
             0.5555555555555556,
             "#d8576b"
            ],
            [
             0.6666666666666666,
             "#ed7953"
            ],
            [
             0.7777777777777778,
             "#fb9f3a"
            ],
            [
             0.8888888888888888,
             "#fdca26"
            ],
            [
             1,
             "#f0f921"
            ]
           ]
          },
          "colorway": [
           "#636efa",
           "#EF553B",
           "#00cc96",
           "#ab63fa",
           "#FFA15A",
           "#19d3f3",
           "#FF6692",
           "#B6E880",
           "#FF97FF",
           "#FECB52"
          ],
          "font": {
           "color": "#2a3f5f"
          },
          "geo": {
           "bgcolor": "white",
           "lakecolor": "white",
           "landcolor": "#E5ECF6",
           "showlakes": true,
           "showland": true,
           "subunitcolor": "white"
          },
          "hoverlabel": {
           "align": "left"
          },
          "hovermode": "closest",
          "mapbox": {
           "style": "light"
          },
          "paper_bgcolor": "white",
          "plot_bgcolor": "#E5ECF6",
          "polar": {
           "angularaxis": {
            "gridcolor": "white",
            "linecolor": "white",
            "ticks": ""
           },
           "bgcolor": "#E5ECF6",
           "radialaxis": {
            "gridcolor": "white",
            "linecolor": "white",
            "ticks": ""
           }
          },
          "scene": {
           "xaxis": {
            "backgroundcolor": "#E5ECF6",
            "gridcolor": "white",
            "gridwidth": 2,
            "linecolor": "white",
            "showbackground": true,
            "ticks": "",
            "zerolinecolor": "white"
           },
           "yaxis": {
            "backgroundcolor": "#E5ECF6",
            "gridcolor": "white",
            "gridwidth": 2,
            "linecolor": "white",
            "showbackground": true,
            "ticks": "",
            "zerolinecolor": "white"
           },
           "zaxis": {
            "backgroundcolor": "#E5ECF6",
            "gridcolor": "white",
            "gridwidth": 2,
            "linecolor": "white",
            "showbackground": true,
            "ticks": "",
            "zerolinecolor": "white"
           }
          },
          "shapedefaults": {
           "line": {
            "color": "#2a3f5f"
           }
          },
          "ternary": {
           "aaxis": {
            "gridcolor": "white",
            "linecolor": "white",
            "ticks": ""
           },
           "baxis": {
            "gridcolor": "white",
            "linecolor": "white",
            "ticks": ""
           },
           "bgcolor": "#E5ECF6",
           "caxis": {
            "gridcolor": "white",
            "linecolor": "white",
            "ticks": ""
           }
          },
          "title": {
           "x": 0.05
          },
          "xaxis": {
           "automargin": true,
           "gridcolor": "white",
           "linecolor": "white",
           "ticks": "",
           "title": {
            "standoff": 15
           },
           "zerolinecolor": "white",
           "zerolinewidth": 2
          },
          "yaxis": {
           "automargin": true,
           "gridcolor": "white",
           "linecolor": "white",
           "ticks": "",
           "title": {
            "standoff": 15
           },
           "zerolinecolor": "white",
           "zerolinewidth": 2
          }
         }
        },
        "title": {
         "text": "Optimization History Plot"
        },
        "xaxis": {
         "title": {
          "text": "Trial"
         }
        },
        "yaxis": {
         "title": {
          "text": "Objective Value"
         }
        }
       }
      }
     },
     "metadata": {},
     "output_type": "display_data"
    }
   ],
   "source": [
    "# plot_optimization_histor: shows the scores from all trials as well as the best score so far at each point.\n",
    "optuna.visualization.plot_optimization_history(study)"
   ]
  },
  {
   "cell_type": "code",
   "execution_count": 11,
   "metadata": {},
   "outputs": [
    {
     "data": {
      "application/vnd.plotly.v1+json": {
       "config": {
        "plotlyServerURL": "https://plot.ly"
       },
       "data": [
        {
         "marker": {
          "color": [
           0,
           1,
           2,
           3,
           4,
           5,
           6,
           7,
           8,
           9,
           10,
           11,
           12,
           13,
           14,
           15,
           16,
           17,
           18,
           19,
           20,
           21,
           22,
           23,
           24,
           25,
           26,
           27,
           28,
           29,
           30,
           31,
           32,
           33,
           34,
           35,
           36,
           37,
           38,
           39,
           40,
           41,
           42,
           43,
           44,
           45,
           46,
           47,
           48,
           49,
           50,
           51,
           52,
           53,
           54,
           55,
           56,
           57,
           58,
           59,
           60,
           61,
           62,
           63,
           64,
           65,
           66,
           67,
           68,
           69,
           70,
           71,
           72,
           73,
           74,
           75,
           76,
           77,
           78,
           79,
           80,
           81,
           82,
           83,
           84,
           85,
           86,
           87,
           88,
           89,
           90,
           91,
           92,
           93,
           94,
           95,
           96,
           97,
           98,
           99
          ],
          "colorbar": {
           "title": {
            "text": "Trial"
           },
           "x": 1,
           "xpad": 40
          },
          "colorscale": [
           [
            0,
            "rgb(247,251,255)"
           ],
           [
            0.125,
            "rgb(222,235,247)"
           ],
           [
            0.25,
            "rgb(198,219,239)"
           ],
           [
            0.375,
            "rgb(158,202,225)"
           ],
           [
            0.5,
            "rgb(107,174,214)"
           ],
           [
            0.625,
            "rgb(66,146,198)"
           ],
           [
            0.75,
            "rgb(33,113,181)"
           ],
           [
            0.875,
            "rgb(8,81,156)"
           ],
           [
            1,
            "rgb(8,48,107)"
           ]
          ],
          "line": {
           "color": "Grey",
           "width": 0.5
          },
          "showscale": true
         },
         "mode": "markers",
         "showlegend": false,
         "type": "scatter",
         "x": [
          0.03090950619557188,
          0.07986235314153306,
          0.024786159372631178,
          0.09762750003330573,
          0.09660950222198374,
          0.03610541389028709,
          0.09701760484822311,
          0.011906863234003065,
          0.058618875197461874,
          0.09121749567040516,
          0.046422302231261946,
          0.01167942674371728,
          0.011859147818738178,
          0.031348457122249,
          0.04568704849623296,
          0.020338447665204075,
          0.03395671958172401,
          0.0101507540686873,
          0.022315588778219743,
          0.038875254943064666,
          0.060983252696281035,
          0.025657074287072073,
          0.019000538432225572,
          0.026100684736293484,
          0.018475588938629158,
          0.039445355151518924,
          0.027667473773856817,
          0.01759890745025341,
          0.03385857568006434,
          0.028534227900319654,
          0.025107747310274167,
          0.029629249652321058,
          0.029807263631649886,
          0.0163478625124283,
          0.026763691997154303,
          0.02253940155685587,
          0.015510165636043089,
          0.014393163243459236,
          0.013773994918027714,
          0.010234270415890472,
          0.020495949250849993,
          0.016581773452411484,
          0.01931179337734003,
          0.02220650935851224,
          0.015000138891773221,
          0.032120190527832874,
          0.031802377254478195,
          0.02296107963848295,
          0.014229865187637207,
          0.01408413399504038,
          0.020817516177103736,
          0.010242820568928597,
          0.014000476282206582,
          0.01841747099583769,
          0.023814181173274097,
          0.01267343206942688,
          0.030935845287178042,
          0.030569892556229546,
          0.036129056527159115,
          0.029618865236394697,
          0.04229492696718241,
          0.03199432130916533,
          0.02648286216827223,
          0.03628707638728464,
          0.02865637249109588,
          0.024399543789586482,
          0.020853314057234392,
          0.033388625503934885,
          0.03008010801608094,
          0.01680383527677016,
          0.020161614050913598,
          0.025049360843253737,
          0.01714591544314907,
          0.016757300385110856,
          0.027325785359875156,
          0.022699664336450827,
          0.012031616268681112,
          0.01856994565716151,
          0.020711552173137644,
          0.015317837312024638,
          0.02786763060174598,
          0.013357326811004298,
          0.015072901809256647,
          0.012284907515173221,
          0.017566684153219415,
          0.025077133667912213,
          0.023629370061241474,
          0.010393414666074945,
          0.021187001035922953,
          0.018823219202243058,
          0.015695452306885026,
          0.013520049900379996,
          0.0137355702752298,
          0.012414838013362973,
          0.016521495289736125,
          0.01995842838856971,
          0.03160221205085742,
          0.01080518683571033,
          0.012724977309432514,
          0.02260743022163131
         ],
         "xaxis": "x",
         "y": [
          0.7246469833119383,
          0.6861360718870345,
          0.5,
          0.5808729139922978,
          0.5667522464698331,
          0.7528883183568679,
          0.6880616174582799,
          0.7265725288831836,
          0.607188703465982,
          0.6335044929396663,
          0.7124518613607188,
          0.7265725288831836,
          0.7650834403080873,
          0.738767650834403,
          0.738767650834403,
          0.7265725288831836,
          0.6861360718870345,
          0.7265725288831836,
          0.7002567394094994,
          0.7002567394094994,
          0.6598202824133504,
          0.7548138639281129,
          0.7124518613607188,
          0.7124518613607188,
          0.7002567394094994,
          0.6861360718870345,
          0.7002567394094994,
          0.7002567394094994,
          0.738767650834403,
          0.7650834403080873,
          0.738767650834403,
          0.803594351732991,
          0.7246469833119383,
          0.738767650834403,
          0.7265725288831836,
          0.738767650834403,
          0.7792041078305519,
          0.6880616174582799,
          0.7509627727856225,
          0.7124518613607188,
          0.7913992297817715,
          0.738767650834403,
          0.7528883183568679,
          0.7650834403080873,
          0.6335044929396663,
          0.8177150192554556,
          0.6861360718870345,
          0.7528883183568679,
          0.7913992297817715,
          0.67201540436457,
          0.7650834403080873,
          0.7528883183568679,
          0.6983311938382541,
          0.7124518613607188,
          0.6983311938382541,
          0.7792041078305519,
          0.7913992297817715,
          0.7913992297817715,
          0.6456996148908858,
          0.738767650834403,
          0.7124518613607188,
          0.7265725288831836,
          0.7124518613607188,
          0.7528883183568679,
          0.6983311938382541,
          0.7528883183568679,
          0.7124518613607188,
          0.6739409499358152,
          0.738767650834403,
          0.7913992297817715,
          0.6861360718870345,
          0.7650834403080873,
          0.6861360718870345,
          0.7528883183568679,
          0.738767650834403,
          0.7124518613607188,
          0.7528883183568679,
          0.7124518613607188,
          0.7528883183568679,
          0.6861360718870345,
          0.7528883183568679,
          0.7913992297817715,
          0.7792041078305519,
          0.7528883183568679,
          0.738767650834403,
          0.6739409499358152,
          0.7528883183568679,
          0.7246469833119383,
          0.7772785622593068,
          0.7528883183568679,
          0.7772785622593068,
          0.7265725288831836,
          0.7265725288831836,
          0.7528883183568679,
          0.7265725288831836,
          0.67201540436457,
          0.7528883183568679,
          0.7528883183568679,
          0.6861360718870345,
          0.7265725288831836
         ],
         "yaxis": "y"
        },
        {
         "marker": {
          "color": [
           0,
           1,
           2,
           3,
           4,
           5,
           6,
           7,
           8,
           9,
           10,
           11,
           12,
           13,
           14,
           15,
           16,
           17,
           18,
           19,
           20,
           21,
           22,
           23,
           24,
           25,
           26,
           27,
           28,
           29,
           30,
           31,
           32,
           33,
           34,
           35,
           36,
           37,
           38,
           39,
           40,
           41,
           42,
           43,
           44,
           45,
           46,
           47,
           48,
           49,
           50,
           51,
           52,
           53,
           54,
           55,
           56,
           57,
           58,
           59,
           60,
           61,
           62,
           63,
           64,
           65,
           66,
           67,
           68,
           69,
           70,
           71,
           72,
           73,
           74,
           75,
           76,
           77,
           78,
           79,
           80,
           81,
           82,
           83,
           84,
           85,
           86,
           87,
           88,
           89,
           90,
           91,
           92,
           93,
           94,
           95,
           96,
           97,
           98,
           99
          ],
          "colorbar": {
           "title": {
            "text": "Trial"
           },
           "x": 1,
           "xpad": 40
          },
          "colorscale": [
           [
            0,
            "rgb(247,251,255)"
           ],
           [
            0.125,
            "rgb(222,235,247)"
           ],
           [
            0.25,
            "rgb(198,219,239)"
           ],
           [
            0.375,
            "rgb(158,202,225)"
           ],
           [
            0.5,
            "rgb(107,174,214)"
           ],
           [
            0.625,
            "rgb(66,146,198)"
           ],
           [
            0.75,
            "rgb(33,113,181)"
           ],
           [
            0.875,
            "rgb(8,81,156)"
           ],
           [
            1,
            "rgb(8,48,107)"
           ]
          ],
          "line": {
           "color": "Grey",
           "width": 0.5
          },
          "showscale": false
         },
         "mode": "markers",
         "showlegend": false,
         "type": "scatter",
         "x": [
          0.0891781733041886,
          0.04958566829222305,
          0.033577259275936314,
          0.02214270724529358,
          0.014244613037565787,
          0.06886779418441034,
          0.05428959460075924,
          0.08577091924086043,
          0.02004922688689454,
          0.037446162368450546,
          0.07282585402426092,
          0.07619866025883058,
          0.09288693970361951,
          0.09971687673934809,
          0.0673232134099921,
          0.06144670000469643,
          0.08162978250523437,
          0.09809899072602143,
          0.06707970282419422,
          0.08939467295524635,
          0.07832923274256272,
          0.09911566128935745,
          0.09414693504949792,
          0.0887606273064627,
          0.09962056040645303,
          0.08357944393324926,
          0.09274121994744042,
          0.08411876647774123,
          0.07722851640995727,
          0.09137729672464998,
          0.09249284890138831,
          0.08910079912479407,
          0.09270049521821348,
          0.08963318005409251,
          0.0956957222276708,
          0.08667544666408637,
          0.08157548948090343,
          0.0822990830013581,
          0.0799416477151411,
          0.07345776834786186,
          0.0871267131600589,
          0.08696508553436944,
          0.09192941600896094,
          0.08703426360654955,
          0.09608586961750562,
          0.08139171493009001,
          0.08131293697090068,
          0.07459939789965549,
          0.0706396693917404,
          0.07110659396501755,
          0.07778698777857929,
          0.08430589206918249,
          0.07931088039121094,
          0.08497587981309207,
          0.06978084271856716,
          0.07523170507184522,
          0.07500809247443548,
          0.06272663655341268,
          0.06388624642731093,
          0.055801751223226746,
          0.07095236380781746,
          0.07537366948543428,
          0.06629864473936399,
          0.07948345601288588,
          0.07346311139422722,
          0.08213679300948462,
          0.060730532490875545,
          0.07690655249312715,
          0.08837634128616055,
          0.06839308680378803,
          0.06819266691813823,
          0.07213056658823405,
          0.06517137575014685,
          0.07072140293683056,
          0.06836275742023559,
          0.08036433759913221,
          0.08466923405846477,
          0.07705730311090644,
          0.08257868253677735,
          0.07425746818663381,
          0.08609623629816102,
          0.07592141083815848,
          0.08918323385077676,
          0.0775412789248137,
          0.08070929963564594,
          0.07263778399320646,
          0.06934938204122297,
          0.07883380945713979,
          0.08288345272976473,
          0.07576653721764243,
          0.09078027682230941,
          0.07404421552051671,
          0.07187455881396201,
          0.0762392434542125,
          0.07854932460090203,
          0.07503709431938478,
          0.08120556190831955,
          0.08431429970145601,
          0.08721441190446041,
          0.0699043960988844
         ],
         "xaxis": "x2",
         "y": [
          0.7246469833119383,
          0.6861360718870345,
          0.5,
          0.5808729139922978,
          0.5667522464698331,
          0.7528883183568679,
          0.6880616174582799,
          0.7265725288831836,
          0.607188703465982,
          0.6335044929396663,
          0.7124518613607188,
          0.7265725288831836,
          0.7650834403080873,
          0.738767650834403,
          0.738767650834403,
          0.7265725288831836,
          0.6861360718870345,
          0.7265725288831836,
          0.7002567394094994,
          0.7002567394094994,
          0.6598202824133504,
          0.7548138639281129,
          0.7124518613607188,
          0.7124518613607188,
          0.7002567394094994,
          0.6861360718870345,
          0.7002567394094994,
          0.7002567394094994,
          0.738767650834403,
          0.7650834403080873,
          0.738767650834403,
          0.803594351732991,
          0.7246469833119383,
          0.738767650834403,
          0.7265725288831836,
          0.738767650834403,
          0.7792041078305519,
          0.6880616174582799,
          0.7509627727856225,
          0.7124518613607188,
          0.7913992297817715,
          0.738767650834403,
          0.7528883183568679,
          0.7650834403080873,
          0.6335044929396663,
          0.8177150192554556,
          0.6861360718870345,
          0.7528883183568679,
          0.7913992297817715,
          0.67201540436457,
          0.7650834403080873,
          0.7528883183568679,
          0.6983311938382541,
          0.7124518613607188,
          0.6983311938382541,
          0.7792041078305519,
          0.7913992297817715,
          0.7913992297817715,
          0.6456996148908858,
          0.738767650834403,
          0.7124518613607188,
          0.7265725288831836,
          0.7124518613607188,
          0.7528883183568679,
          0.6983311938382541,
          0.7528883183568679,
          0.7124518613607188,
          0.6739409499358152,
          0.738767650834403,
          0.7913992297817715,
          0.6861360718870345,
          0.7650834403080873,
          0.6861360718870345,
          0.7528883183568679,
          0.738767650834403,
          0.7124518613607188,
          0.7528883183568679,
          0.7124518613607188,
          0.7528883183568679,
          0.6861360718870345,
          0.7528883183568679,
          0.7913992297817715,
          0.7792041078305519,
          0.7528883183568679,
          0.738767650834403,
          0.6739409499358152,
          0.7528883183568679,
          0.7246469833119383,
          0.7772785622593068,
          0.7528883183568679,
          0.7772785622593068,
          0.7265725288831836,
          0.7265725288831836,
          0.7528883183568679,
          0.7265725288831836,
          0.67201540436457,
          0.7528883183568679,
          0.7528883183568679,
          0.6861360718870345,
          0.7265725288831836
         ],
         "yaxis": "y2"
        },
        {
         "marker": {
          "color": [
           0,
           1,
           2,
           3,
           4,
           5,
           6,
           7,
           8,
           9,
           10,
           11,
           12,
           13,
           14,
           15,
           16,
           17,
           18,
           19,
           20,
           21,
           22,
           23,
           24,
           25,
           26,
           27,
           28,
           29,
           30,
           31,
           32,
           33,
           34,
           35,
           36,
           37,
           38,
           39,
           40,
           41,
           42,
           43,
           44,
           45,
           46,
           47,
           48,
           49,
           50,
           51,
           52,
           53,
           54,
           55,
           56,
           57,
           58,
           59,
           60,
           61,
           62,
           63,
           64,
           65,
           66,
           67,
           68,
           69,
           70,
           71,
           72,
           73,
           74,
           75,
           76,
           77,
           78,
           79,
           80,
           81,
           82,
           83,
           84,
           85,
           86,
           87,
           88,
           89,
           90,
           91,
           92,
           93,
           94,
           95,
           96,
           97,
           98,
           99
          ],
          "colorbar": {
           "title": {
            "text": "Trial"
           },
           "x": 1,
           "xpad": 40
          },
          "colorscale": [
           [
            0,
            "rgb(247,251,255)"
           ],
           [
            0.125,
            "rgb(222,235,247)"
           ],
           [
            0.25,
            "rgb(198,219,239)"
           ],
           [
            0.375,
            "rgb(158,202,225)"
           ],
           [
            0.5,
            "rgb(107,174,214)"
           ],
           [
            0.625,
            "rgb(66,146,198)"
           ],
           [
            0.75,
            "rgb(33,113,181)"
           ],
           [
            0.875,
            "rgb(8,81,156)"
           ],
           [
            1,
            "rgb(8,48,107)"
           ]
          ],
          "line": {
           "color": "Grey",
           "width": 0.5
          },
          "showscale": false
         },
         "mode": "markers",
         "showlegend": false,
         "type": "scatter",
         "x": [
          35,
          25,
          29,
          41,
          34,
          22,
          19,
          32,
          33,
          48,
          11,
          20,
          22,
          12,
          20,
          25,
          17,
          26,
          15,
          24,
          40,
          14,
          14,
          21,
          10,
          17,
          28,
          22,
          15,
          37,
          39,
          37,
          37,
          44,
          44,
          36,
          31,
          31,
          29,
          35,
          42,
          43,
          50,
          38,
          33,
          42,
          41,
          46,
          42,
          47,
          42,
          45,
          40,
          42,
          34,
          31,
          30,
          27,
          27,
          48,
          24,
          30,
          39,
          32,
          28,
          36,
          25,
          41,
          38,
          33,
          43,
          34,
          30,
          32,
          27,
          29,
          35,
          33,
          37,
          31,
          26,
          31,
          29,
          45,
          32,
          35,
          40,
          28,
          34,
          39,
          42,
          31,
          30,
          33,
          31,
          27,
          36,
          24,
          30,
          43
         ],
         "xaxis": "x3",
         "y": [
          0.7246469833119383,
          0.6861360718870345,
          0.5,
          0.5808729139922978,
          0.5667522464698331,
          0.7528883183568679,
          0.6880616174582799,
          0.7265725288831836,
          0.607188703465982,
          0.6335044929396663,
          0.7124518613607188,
          0.7265725288831836,
          0.7650834403080873,
          0.738767650834403,
          0.738767650834403,
          0.7265725288831836,
          0.6861360718870345,
          0.7265725288831836,
          0.7002567394094994,
          0.7002567394094994,
          0.6598202824133504,
          0.7548138639281129,
          0.7124518613607188,
          0.7124518613607188,
          0.7002567394094994,
          0.6861360718870345,
          0.7002567394094994,
          0.7002567394094994,
          0.738767650834403,
          0.7650834403080873,
          0.738767650834403,
          0.803594351732991,
          0.7246469833119383,
          0.738767650834403,
          0.7265725288831836,
          0.738767650834403,
          0.7792041078305519,
          0.6880616174582799,
          0.7509627727856225,
          0.7124518613607188,
          0.7913992297817715,
          0.738767650834403,
          0.7528883183568679,
          0.7650834403080873,
          0.6335044929396663,
          0.8177150192554556,
          0.6861360718870345,
          0.7528883183568679,
          0.7913992297817715,
          0.67201540436457,
          0.7650834403080873,
          0.7528883183568679,
          0.6983311938382541,
          0.7124518613607188,
          0.6983311938382541,
          0.7792041078305519,
          0.7913992297817715,
          0.7913992297817715,
          0.6456996148908858,
          0.738767650834403,
          0.7124518613607188,
          0.7265725288831836,
          0.7124518613607188,
          0.7528883183568679,
          0.6983311938382541,
          0.7528883183568679,
          0.7124518613607188,
          0.6739409499358152,
          0.738767650834403,
          0.7913992297817715,
          0.6861360718870345,
          0.7650834403080873,
          0.6861360718870345,
          0.7528883183568679,
          0.738767650834403,
          0.7124518613607188,
          0.7528883183568679,
          0.7124518613607188,
          0.7528883183568679,
          0.6861360718870345,
          0.7528883183568679,
          0.7913992297817715,
          0.7792041078305519,
          0.7528883183568679,
          0.738767650834403,
          0.6739409499358152,
          0.7528883183568679,
          0.7246469833119383,
          0.7772785622593068,
          0.7528883183568679,
          0.7772785622593068,
          0.7265725288831836,
          0.7265725288831836,
          0.7528883183568679,
          0.7265725288831836,
          0.67201540436457,
          0.7528883183568679,
          0.7528883183568679,
          0.6861360718870345,
          0.7265725288831836
         ],
         "yaxis": "y3"
        },
        {
         "marker": {
          "color": [
           0,
           1,
           2,
           3,
           4,
           5,
           6,
           7,
           8,
           9,
           10,
           11,
           12,
           13,
           14,
           15,
           16,
           17,
           18,
           19,
           20,
           21,
           22,
           23,
           24,
           25,
           26,
           27,
           28,
           29,
           30,
           31,
           32,
           33,
           34,
           35,
           36,
           37,
           38,
           39,
           40,
           41,
           42,
           43,
           44,
           45,
           46,
           47,
           48,
           49,
           50,
           51,
           52,
           53,
           54,
           55,
           56,
           57,
           58,
           59,
           60,
           61,
           62,
           63,
           64,
           65,
           66,
           67,
           68,
           69,
           70,
           71,
           72,
           73,
           74,
           75,
           76,
           77,
           78,
           79,
           80,
           81,
           82,
           83,
           84,
           85,
           86,
           87,
           88,
           89,
           90,
           91,
           92,
           93,
           94,
           95,
           96,
           97,
           98,
           99
          ],
          "colorbar": {
           "title": {
            "text": "Trial"
           },
           "x": 1,
           "xpad": 40
          },
          "colorscale": [
           [
            0,
            "rgb(247,251,255)"
           ],
           [
            0.125,
            "rgb(222,235,247)"
           ],
           [
            0.25,
            "rgb(198,219,239)"
           ],
           [
            0.375,
            "rgb(158,202,225)"
           ],
           [
            0.5,
            "rgb(107,174,214)"
           ],
           [
            0.625,
            "rgb(66,146,198)"
           ],
           [
            0.75,
            "rgb(33,113,181)"
           ],
           [
            0.875,
            "rgb(8,81,156)"
           ],
           [
            1,
            "rgb(8,48,107)"
           ]
          ],
          "line": {
           "color": "Grey",
           "width": 0.5
          },
          "showscale": false
         },
         "mode": "markers",
         "showlegend": false,
         "type": "scatter",
         "x": [
          20,
          3,
          20,
          16,
          8,
          14,
          1,
          12,
          13,
          12,
          7,
          15,
          9,
          8,
          5,
          16,
          10,
          10,
          14,
          18,
          5,
          8,
          11,
          9,
          6,
          11,
          4,
          8,
          13,
          17,
          19,
          17,
          17,
          19,
          17,
          20,
          9,
          2,
          15,
          9,
          12,
          12,
          17,
          15,
          7,
          13,
          13,
          9,
          12,
          12,
          14,
          11,
          10,
          13,
          7,
          10,
          12,
          12,
          14,
          12,
          16,
          11,
          14,
          12,
          13,
          10,
          15,
          11,
          12,
          13,
          13,
          12,
          13,
          11,
          14,
          14,
          16,
          8,
          11,
          9,
          12,
          10,
          10,
          13,
          11,
          10,
          9,
          18,
          15,
          6,
          12,
          8,
          10,
          9,
          11,
          10,
          13,
          12,
          10,
          11
         ],
         "xaxis": "x4",
         "y": [
          0.7246469833119383,
          0.6861360718870345,
          0.5,
          0.5808729139922978,
          0.5667522464698331,
          0.7528883183568679,
          0.6880616174582799,
          0.7265725288831836,
          0.607188703465982,
          0.6335044929396663,
          0.7124518613607188,
          0.7265725288831836,
          0.7650834403080873,
          0.738767650834403,
          0.738767650834403,
          0.7265725288831836,
          0.6861360718870345,
          0.7265725288831836,
          0.7002567394094994,
          0.7002567394094994,
          0.6598202824133504,
          0.7548138639281129,
          0.7124518613607188,
          0.7124518613607188,
          0.7002567394094994,
          0.6861360718870345,
          0.7002567394094994,
          0.7002567394094994,
          0.738767650834403,
          0.7650834403080873,
          0.738767650834403,
          0.803594351732991,
          0.7246469833119383,
          0.738767650834403,
          0.7265725288831836,
          0.738767650834403,
          0.7792041078305519,
          0.6880616174582799,
          0.7509627727856225,
          0.7124518613607188,
          0.7913992297817715,
          0.738767650834403,
          0.7528883183568679,
          0.7650834403080873,
          0.6335044929396663,
          0.8177150192554556,
          0.6861360718870345,
          0.7528883183568679,
          0.7913992297817715,
          0.67201540436457,
          0.7650834403080873,
          0.7528883183568679,
          0.6983311938382541,
          0.7124518613607188,
          0.6983311938382541,
          0.7792041078305519,
          0.7913992297817715,
          0.7913992297817715,
          0.6456996148908858,
          0.738767650834403,
          0.7124518613607188,
          0.7265725288831836,
          0.7124518613607188,
          0.7528883183568679,
          0.6983311938382541,
          0.7528883183568679,
          0.7124518613607188,
          0.6739409499358152,
          0.738767650834403,
          0.7913992297817715,
          0.6861360718870345,
          0.7650834403080873,
          0.6861360718870345,
          0.7528883183568679,
          0.738767650834403,
          0.7124518613607188,
          0.7528883183568679,
          0.7124518613607188,
          0.7528883183568679,
          0.6861360718870345,
          0.7528883183568679,
          0.7913992297817715,
          0.7792041078305519,
          0.7528883183568679,
          0.738767650834403,
          0.6739409499358152,
          0.7528883183568679,
          0.7246469833119383,
          0.7772785622593068,
          0.7528883183568679,
          0.7772785622593068,
          0.7265725288831836,
          0.7265725288831836,
          0.7528883183568679,
          0.7265725288831836,
          0.67201540436457,
          0.7528883183568679,
          0.7528883183568679,
          0.6861360718870345,
          0.7265725288831836
         ],
         "yaxis": "y4"
        },
        {
         "marker": {
          "color": [
           0,
           1,
           2,
           3,
           4,
           5,
           6,
           7,
           8,
           9,
           10,
           11,
           12,
           13,
           14,
           15,
           16,
           17,
           18,
           19,
           20,
           21,
           22,
           23,
           24,
           25,
           26,
           27,
           28,
           29,
           30,
           31,
           32,
           33,
           34,
           35,
           36,
           37,
           38,
           39,
           40,
           41,
           42,
           43,
           44,
           45,
           46,
           47,
           48,
           49,
           50,
           51,
           52,
           53,
           54,
           55,
           56,
           57,
           58,
           59,
           60,
           61,
           62,
           63,
           64,
           65,
           66,
           67,
           68,
           69,
           70,
           71,
           72,
           73,
           74,
           75,
           76,
           77,
           78,
           79,
           80,
           81,
           82,
           83,
           84,
           85,
           86,
           87,
           88,
           89,
           90,
           91,
           92,
           93,
           94,
           95,
           96,
           97,
           98,
           99
          ],
          "colorbar": {
           "title": {
            "text": "Trial"
           },
           "x": 1,
           "xpad": 40
          },
          "colorscale": [
           [
            0,
            "rgb(247,251,255)"
           ],
           [
            0.125,
            "rgb(222,235,247)"
           ],
           [
            0.25,
            "rgb(198,219,239)"
           ],
           [
            0.375,
            "rgb(158,202,225)"
           ],
           [
            0.5,
            "rgb(107,174,214)"
           ],
           [
            0.625,
            "rgb(66,146,198)"
           ],
           [
            0.75,
            "rgb(33,113,181)"
           ],
           [
            0.875,
            "rgb(8,81,156)"
           ],
           [
            1,
            "rgb(8,48,107)"
           ]
          ],
          "line": {
           "color": "Grey",
           "width": 0.5
          },
          "showscale": false
         },
         "mode": "markers",
         "showlegend": false,
         "type": "scatter",
         "x": [
          178,
          256,
          176,
          205,
          159,
          271,
          231,
          204,
          234,
          247,
          297,
          279,
          206,
          273,
          209,
          298,
          263,
          218,
          191,
          243,
          151,
          272,
          285,
          253,
          269,
          224,
          286,
          191,
          236,
          264,
          260,
          269,
          286,
          248,
          261,
          174,
          218,
          215,
          198,
          223,
          211,
          186,
          211,
          200,
          230,
          241,
          240,
          170,
          218,
          228,
          218,
          206,
          212,
          221,
          200,
          235,
          234,
          252,
          253,
          247,
          242,
          228,
          255,
          232,
          237,
          250,
          278,
          267,
          219,
          245,
          242,
          246,
          257,
          225,
          215,
          232,
          239,
          274,
          259,
          225,
          208,
          235,
          244,
          293,
          215,
          251,
          236,
          264,
          227,
          195,
          231,
          236,
          221,
          234,
          239,
          249,
          245,
          228,
          212,
          202
         ],
         "xaxis": "x5",
         "y": [
          0.7246469833119383,
          0.6861360718870345,
          0.5,
          0.5808729139922978,
          0.5667522464698331,
          0.7528883183568679,
          0.6880616174582799,
          0.7265725288831836,
          0.607188703465982,
          0.6335044929396663,
          0.7124518613607188,
          0.7265725288831836,
          0.7650834403080873,
          0.738767650834403,
          0.738767650834403,
          0.7265725288831836,
          0.6861360718870345,
          0.7265725288831836,
          0.7002567394094994,
          0.7002567394094994,
          0.6598202824133504,
          0.7548138639281129,
          0.7124518613607188,
          0.7124518613607188,
          0.7002567394094994,
          0.6861360718870345,
          0.7002567394094994,
          0.7002567394094994,
          0.738767650834403,
          0.7650834403080873,
          0.738767650834403,
          0.803594351732991,
          0.7246469833119383,
          0.738767650834403,
          0.7265725288831836,
          0.738767650834403,
          0.7792041078305519,
          0.6880616174582799,
          0.7509627727856225,
          0.7124518613607188,
          0.7913992297817715,
          0.738767650834403,
          0.7528883183568679,
          0.7650834403080873,
          0.6335044929396663,
          0.8177150192554556,
          0.6861360718870345,
          0.7528883183568679,
          0.7913992297817715,
          0.67201540436457,
          0.7650834403080873,
          0.7528883183568679,
          0.6983311938382541,
          0.7124518613607188,
          0.6983311938382541,
          0.7792041078305519,
          0.7913992297817715,
          0.7913992297817715,
          0.6456996148908858,
          0.738767650834403,
          0.7124518613607188,
          0.7265725288831836,
          0.7124518613607188,
          0.7528883183568679,
          0.6983311938382541,
          0.7528883183568679,
          0.7124518613607188,
          0.6739409499358152,
          0.738767650834403,
          0.7913992297817715,
          0.6861360718870345,
          0.7650834403080873,
          0.6861360718870345,
          0.7528883183568679,
          0.738767650834403,
          0.7124518613607188,
          0.7528883183568679,
          0.7124518613607188,
          0.7528883183568679,
          0.6861360718870345,
          0.7528883183568679,
          0.7913992297817715,
          0.7792041078305519,
          0.7528883183568679,
          0.738767650834403,
          0.6739409499358152,
          0.7528883183568679,
          0.7246469833119383,
          0.7772785622593068,
          0.7528883183568679,
          0.7772785622593068,
          0.7265725288831836,
          0.7265725288831836,
          0.7528883183568679,
          0.7265725288831836,
          0.67201540436457,
          0.7528883183568679,
          0.7528883183568679,
          0.6861360718870345,
          0.7265725288831836
         ],
         "yaxis": "y5"
        },
        {
         "marker": {
          "color": [
           0,
           1,
           2,
           3,
           4,
           5,
           6,
           7,
           8,
           9,
           10,
           11,
           12,
           13,
           14,
           15,
           16,
           17,
           18,
           19,
           20,
           21,
           22,
           23,
           24,
           25,
           26,
           27,
           28,
           29,
           30,
           31,
           32,
           33,
           34,
           35,
           36,
           37,
           38,
           39,
           40,
           41,
           42,
           43,
           44,
           45,
           46,
           47,
           48,
           49,
           50,
           51,
           52,
           53,
           54,
           55,
           56,
           57,
           58,
           59,
           60,
           61,
           62,
           63,
           64,
           65,
           66,
           67,
           68,
           69,
           70,
           71,
           72,
           73,
           74,
           75,
           76,
           77,
           78,
           79,
           80,
           81,
           82,
           83,
           84,
           85,
           86,
           87,
           88,
           89,
           90,
           91,
           92,
           93,
           94,
           95,
           96,
           97,
           98,
           99
          ],
          "colorbar": {
           "title": {
            "text": "Trial"
           },
           "x": 1,
           "xpad": 40
          },
          "colorscale": [
           [
            0,
            "rgb(247,251,255)"
           ],
           [
            0.125,
            "rgb(222,235,247)"
           ],
           [
            0.25,
            "rgb(198,219,239)"
           ],
           [
            0.375,
            "rgb(158,202,225)"
           ],
           [
            0.5,
            "rgb(107,174,214)"
           ],
           [
            0.625,
            "rgb(66,146,198)"
           ],
           [
            0.75,
            "rgb(33,113,181)"
           ],
           [
            0.875,
            "rgb(8,81,156)"
           ],
           [
            1,
            "rgb(8,48,107)"
           ]
          ],
          "line": {
           "color": "Grey",
           "width": 0.5
          },
          "showscale": false
         },
         "mode": "markers",
         "showlegend": false,
         "type": "scatter",
         "x": [
          0.000005270142430321572,
          0.000007025236249526668,
          6.554675169962187e-7,
          0.0000032574904058589524,
          0.000003817742738696571,
          0.000005118465198769174,
          0.0000011393237505370685,
          0.000004293252027830692,
          0.000008547713460570772,
          0.000003435893063029137,
          0.0000094849667628316,
          0.000005816411698360145,
          0.00000669335428240185,
          0.000006953964103105656,
          0.000007128518019355255,
          0.000005747667714861605,
          0.000008188206901810313,
          0.0000024745894252419305,
          0.0000047784032890908,
          0.000006262784500821317,
          0.00000462790420022871,
          0.000006725748433215042,
          0.000006386977603325753,
          0.000005056908496160793,
          0.000007792629766067361,
          0.000006074322005822748,
          0.000005359879666220161,
          0.000007781349139299146,
          0.000009396013836606607,
          0.000006493645831303037,
          0.000006547920495520985,
          0.000005466722266660606,
          0.000007068499799643547,
          0.000006653956626237971,
          0.000006003717997341686,
          0.00000543017556984322,
          0.000007368486091313521,
          0.000007388601136588045,
          0.000007511244273375415,
          0.000008818679845974143,
          0.000005503498466927932,
          0.000006018149859879682,
          0.000005257528353001609,
          0.000004409206216257303,
          0.000005633893780807271,
          0.000006833177329036985,
          0.000007038037987216774,
          0.0000056457552124640885,
          0.0000041861800647397456,
          0.000003910713544720314,
          0.000004903139029468073,
          0.0000041815920844525684,
          0.000006248425462024658,
          0.0000067450474527517294,
          0.000004975630581861971,
          0.0000033304734512029055,
          0.0000035269910466663763,
          0.000003682325912445872,
          0.000002853345660570886,
          0.000004483711199056706,
          0.000003865205026368242,
          0.000003601228784321972,
          0.00000468769145350399,
          0.0000031188305916920367,
          0.000004177402494961643,
          0.00000511823615457713,
          0.0000022182070931022907,
          0.000004770436541285804,
          0.000004160945048939908,
          0.0000036047904549948987,
          0.0000035898175944470653,
          0.000004572734862275405,
          0.000003910743227137148,
          0.000005337059326074386,
          0.0000030664381074209104,
          0.0000035430401420861563,
          0.000004369190457963379,
          0.000006274107487125823,
          0.000005846823084357077,
          0.000005531376044298831,
          0.000005082047229725197,
          0.000003500159268362449,
          0.0000037457007169003016,
          0.0000033602550013310547,
          0.000004082745907322114,
          0.000004340843198622184,
          0.0000028037577199566502,
          0.0000036878170211727976,
          0.000006799517092724115,
          0.000004658281010349448,
          0.0000073099449514776506,
          0.00000325255532291131,
          0.000003419790940235944,
          0.000003967894128869646,
          0.00000402703440566466,
          0.0000037538509157965855,
          0.0000034454926629534653,
          0.0000048698240752875666,
          0.000004479433764818269,
          0.000005828726264747135
         ],
         "xaxis": "x6",
         "y": [
          0.7246469833119383,
          0.6861360718870345,
          0.5,
          0.5808729139922978,
          0.5667522464698331,
          0.7528883183568679,
          0.6880616174582799,
          0.7265725288831836,
          0.607188703465982,
          0.6335044929396663,
          0.7124518613607188,
          0.7265725288831836,
          0.7650834403080873,
          0.738767650834403,
          0.738767650834403,
          0.7265725288831836,
          0.6861360718870345,
          0.7265725288831836,
          0.7002567394094994,
          0.7002567394094994,
          0.6598202824133504,
          0.7548138639281129,
          0.7124518613607188,
          0.7124518613607188,
          0.7002567394094994,
          0.6861360718870345,
          0.7002567394094994,
          0.7002567394094994,
          0.738767650834403,
          0.7650834403080873,
          0.738767650834403,
          0.803594351732991,
          0.7246469833119383,
          0.738767650834403,
          0.7265725288831836,
          0.738767650834403,
          0.7792041078305519,
          0.6880616174582799,
          0.7509627727856225,
          0.7124518613607188,
          0.7913992297817715,
          0.738767650834403,
          0.7528883183568679,
          0.7650834403080873,
          0.6335044929396663,
          0.8177150192554556,
          0.6861360718870345,
          0.7528883183568679,
          0.7913992297817715,
          0.67201540436457,
          0.7650834403080873,
          0.7528883183568679,
          0.6983311938382541,
          0.7124518613607188,
          0.6983311938382541,
          0.7792041078305519,
          0.7913992297817715,
          0.7913992297817715,
          0.6456996148908858,
          0.738767650834403,
          0.7124518613607188,
          0.7265725288831836,
          0.7124518613607188,
          0.7528883183568679,
          0.6983311938382541,
          0.7528883183568679,
          0.7124518613607188,
          0.6739409499358152,
          0.738767650834403,
          0.7913992297817715,
          0.6861360718870345,
          0.7650834403080873,
          0.6861360718870345,
          0.7528883183568679,
          0.738767650834403,
          0.7124518613607188,
          0.7528883183568679,
          0.7124518613607188,
          0.7528883183568679,
          0.6861360718870345,
          0.7528883183568679,
          0.7913992297817715,
          0.7792041078305519,
          0.7528883183568679,
          0.738767650834403,
          0.6739409499358152,
          0.7528883183568679,
          0.7246469833119383,
          0.7772785622593068,
          0.7528883183568679,
          0.7772785622593068,
          0.7265725288831836,
          0.7265725288831836,
          0.7528883183568679,
          0.7265725288831836,
          0.67201540436457,
          0.7528883183568679,
          0.7528883183568679,
          0.6861360718870345,
          0.7265725288831836
         ],
         "yaxis": "y6"
        },
        {
         "marker": {
          "color": [
           0,
           1,
           2,
           3,
           4,
           5,
           6,
           7,
           8,
           9,
           10,
           11,
           12,
           13,
           14,
           15,
           16,
           17,
           18,
           19,
           20,
           21,
           22,
           23,
           24,
           25,
           26,
           27,
           28,
           29,
           30,
           31,
           32,
           33,
           34,
           35,
           36,
           37,
           38,
           39,
           40,
           41,
           42,
           43,
           44,
           45,
           46,
           47,
           48,
           49,
           50,
           51,
           52,
           53,
           54,
           55,
           56,
           57,
           58,
           59,
           60,
           61,
           62,
           63,
           64,
           65,
           66,
           67,
           68,
           69,
           70,
           71,
           72,
           73,
           74,
           75,
           76,
           77,
           78,
           79,
           80,
           81,
           82,
           83,
           84,
           85,
           86,
           87,
           88,
           89,
           90,
           91,
           92,
           93,
           94,
           95,
           96,
           97,
           98,
           99
          ],
          "colorbar": {
           "title": {
            "text": "Trial"
           },
           "x": 1,
           "xpad": 40
          },
          "colorscale": [
           [
            0,
            "rgb(247,251,255)"
           ],
           [
            0.125,
            "rgb(222,235,247)"
           ],
           [
            0.25,
            "rgb(198,219,239)"
           ],
           [
            0.375,
            "rgb(158,202,225)"
           ],
           [
            0.5,
            "rgb(107,174,214)"
           ],
           [
            0.625,
            "rgb(66,146,198)"
           ],
           [
            0.75,
            "rgb(33,113,181)"
           ],
           [
            0.875,
            "rgb(8,81,156)"
           ],
           [
            1,
            "rgb(8,48,107)"
           ]
          ],
          "line": {
           "color": "Grey",
           "width": 0.5
          },
          "showscale": false
         },
         "mode": "markers",
         "showlegend": false,
         "type": "scatter",
         "x": [
          0.0000070947209053917484,
          0.000004571522404954949,
          0.000006906462441481608,
          0.000008436676162704015,
          0.000009259064360859238,
          0.000009878546242518675,
          0.0000028290134609524352,
          0.000006003048962738638,
          0.000001786423399920629,
          0.000008037712268634104,
          0.000009780046753783228,
          0.0000057538623436793445,
          0.00000974374601120624,
          0.000009943306076039423,
          0.0000085714444133294,
          0.000009999110083075624,
          0.000008060626898225589,
          0.00000733362961621954,
          0.000008897264705814403,
          2.474053822659266e-7,
          0.000009320443540040562,
          0.000009752542949146493,
          0.00000895361428998238,
          0.00000792202812105847,
          0.000009936907858420925,
          0.000009074499835315332,
          0.000007784288501310642,
          0.000008589688421073841,
          0.000009418010190327862,
          0.00000725038279414387,
          0.000007115213320229354,
          0.000009368741367548251,
          0.00000852375728658937,
          0.000009190729180144734,
          0.000006637393423228901,
          0.000007510393787881908,
          0.000008325882739364152,
          0.000008230951253482362,
          0.0000074529702079042836,
          0.000008628826233245164,
          0.000006873412339356124,
          0.000006596853239447021,
          0.000006971666732961315,
          0.000008129028799669609,
          0.000006111951056372995,
          0.000004958487110482849,
          0.0000047911873670578926,
          0.00000555199619086776,
          0.000004023977409676484,
          0.00000427447445066336,
          0.000004180964087613467,
          0.000005163266357620727,
          0.0000036511537345323593,
          0.000009615659491562484,
          0.000009542221781376732,
          0.000008947134469005305,
          0.000008917639415544314,
          0.000007676518277830257,
          0.000007821884878631593,
          0.000006157321303495562,
          0.000006650822966527391,
          0.000008389755567725043,
          0.000008745858999585013,
          0.000007714464546725388,
          0.000009151639365423851,
          0.000008188668807292143,
          0.000008809679736808705,
          0.00000935292058832319,
          0.000007537182300346973,
          0.000008341226736206467,
          0.0000078551664421891,
          0.00000837373958808928,
          0.000008086556477691357,
          0.000008715914323793236,
          0.000009055752281170607,
          0.000007215250245336369,
          0.000008403882704422792,
          0.000009403758428604548,
          0.000007996378890914665,
          0.000007648450400326647,
          0.000009742796849557028,
          0.000009115067724267246,
          0.000008937884178796169,
          0.000008545462951682,
          0.000009204840510574754,
          0.000008276175044091635,
          0.000008782133686340415,
          0.000007402271586911163,
          0.000009968687528233445,
          0.000009511631054794294,
          0.000008025663547934411,
          0.000008966007289540044,
          0.00000853282485666143,
          0.000009319090790476035,
          0.00000898735912487149,
          0.000008667786630002935,
          0.000009698369073949953,
          0.000008235088959163813,
          0.00000925077855333062,
          0.00000786110189452856
         ],
         "xaxis": "x7",
         "y": [
          0.7246469833119383,
          0.6861360718870345,
          0.5,
          0.5808729139922978,
          0.5667522464698331,
          0.7528883183568679,
          0.6880616174582799,
          0.7265725288831836,
          0.607188703465982,
          0.6335044929396663,
          0.7124518613607188,
          0.7265725288831836,
          0.7650834403080873,
          0.738767650834403,
          0.738767650834403,
          0.7265725288831836,
          0.6861360718870345,
          0.7265725288831836,
          0.7002567394094994,
          0.7002567394094994,
          0.6598202824133504,
          0.7548138639281129,
          0.7124518613607188,
          0.7124518613607188,
          0.7002567394094994,
          0.6861360718870345,
          0.7002567394094994,
          0.7002567394094994,
          0.738767650834403,
          0.7650834403080873,
          0.738767650834403,
          0.803594351732991,
          0.7246469833119383,
          0.738767650834403,
          0.7265725288831836,
          0.738767650834403,
          0.7792041078305519,
          0.6880616174582799,
          0.7509627727856225,
          0.7124518613607188,
          0.7913992297817715,
          0.738767650834403,
          0.7528883183568679,
          0.7650834403080873,
          0.6335044929396663,
          0.8177150192554556,
          0.6861360718870345,
          0.7528883183568679,
          0.7913992297817715,
          0.67201540436457,
          0.7650834403080873,
          0.7528883183568679,
          0.6983311938382541,
          0.7124518613607188,
          0.6983311938382541,
          0.7792041078305519,
          0.7913992297817715,
          0.7913992297817715,
          0.6456996148908858,
          0.738767650834403,
          0.7124518613607188,
          0.7265725288831836,
          0.7124518613607188,
          0.7528883183568679,
          0.6983311938382541,
          0.7528883183568679,
          0.7124518613607188,
          0.6739409499358152,
          0.738767650834403,
          0.7913992297817715,
          0.6861360718870345,
          0.7650834403080873,
          0.6861360718870345,
          0.7528883183568679,
          0.738767650834403,
          0.7124518613607188,
          0.7528883183568679,
          0.7124518613607188,
          0.7528883183568679,
          0.6861360718870345,
          0.7528883183568679,
          0.7913992297817715,
          0.7792041078305519,
          0.7528883183568679,
          0.738767650834403,
          0.6739409499358152,
          0.7528883183568679,
          0.7246469833119383,
          0.7772785622593068,
          0.7528883183568679,
          0.7772785622593068,
          0.7265725288831836,
          0.7265725288831836,
          0.7528883183568679,
          0.7265725288831836,
          0.67201540436457,
          0.7528883183568679,
          0.7528883183568679,
          0.6861360718870345,
          0.7265725288831836
         ],
         "yaxis": "y7"
        },
        {
         "marker": {
          "color": [
           0,
           1,
           2,
           3,
           4,
           5,
           6,
           7,
           8,
           9,
           10,
           11,
           12,
           13,
           14,
           15,
           16,
           17,
           18,
           19,
           20,
           21,
           22,
           23,
           24,
           25,
           26,
           27,
           28,
           29,
           30,
           31,
           32,
           33,
           34,
           35,
           36,
           37,
           38,
           39,
           40,
           41,
           42,
           43,
           44,
           45,
           46,
           47,
           48,
           49,
           50,
           51,
           52,
           53,
           54,
           55,
           56,
           57,
           58,
           59,
           60,
           61,
           62,
           63,
           64,
           65,
           66,
           67,
           68,
           69,
           70,
           71,
           72,
           73,
           74,
           75,
           76,
           77,
           78,
           79,
           80,
           81,
           82,
           83,
           84,
           85,
           86,
           87,
           88,
           89,
           90,
           91,
           92,
           93,
           94,
           95,
           96,
           97,
           98,
           99
          ],
          "colorbar": {
           "title": {
            "text": "Trial"
           },
           "x": 1,
           "xpad": 40
          },
          "colorscale": [
           [
            0,
            "rgb(247,251,255)"
           ],
           [
            0.125,
            "rgb(222,235,247)"
           ],
           [
            0.25,
            "rgb(198,219,239)"
           ],
           [
            0.375,
            "rgb(158,202,225)"
           ],
           [
            0.5,
            "rgb(107,174,214)"
           ],
           [
            0.625,
            "rgb(66,146,198)"
           ],
           [
            0.75,
            "rgb(33,113,181)"
           ],
           [
            0.875,
            "rgb(8,81,156)"
           ],
           [
            1,
            "rgb(8,48,107)"
           ]
          ],
          "line": {
           "color": "Grey",
           "width": 0.5
          },
          "showscale": false
         },
         "mode": "markers",
         "showlegend": false,
         "type": "scatter",
         "x": [
          0.24825549471540287,
          0.4107035959692341,
          0.12259677265568039,
          0.953600458589063,
          0.7569510367909991,
          0.7043411890979814,
          0.747610443625731,
          0.5313684227695668,
          0.9347175747125706,
          0.12181927425113656,
          0.6487837928357725,
          0.5265652996846099,
          0.5247167772372816,
          0.4304307793124693,
          0.6680358099866621,
          0.8302928885008847,
          0.5939923190174299,
          0.8370272435969148,
          0.4454963337837899,
          0.6372633172864225,
          0.3392734212121398,
          0.46671673837583094,
          0.5504483876697461,
          0.4862726819745633,
          0.3688153779372023,
          0.60200877111092,
          0.4913948622152159,
          0.6971648416911991,
          0.5478879610891895,
          0.32912352782141197,
          0.3014677072562971,
          0.2724619458652722,
          0.2539346129786737,
          0.38467106196945394,
          0.21313532808462127,
          0.40761038074927625,
          0.3466047198201009,
          0.3170396659177778,
          0.1892157214162785,
          0.2777964384677663,
          0.35879280785624285,
          0.3469633480278657,
          0.38581905800233984,
          0.300354751938199,
          0.4195814409958847,
          0.2178632721062016,
          0.17290031554397695,
          0.2615735963006692,
          0.22393357539941627,
          0.10730180445304276,
          0.22654113872738554,
          0.16231426614989067,
          0.24338514147331108,
          0.28314463940873,
          0.1512436733806693,
          0.222434007139356,
          0.23753319965265177,
          0.2145873490475823,
          0.14415789443230226,
          0.19813658770884865,
          0.2334985599829437,
          0.27061282419326127,
          0.18680660890479703,
          0.3466131114871879,
          0.2030531805223943,
          0.30018551039317265,
          0.24291640548773896,
          0.12592087961770887,
          0.2673090305742272,
          0.3242310531426571,
          0.21357321537340776,
          0.30823099660945885,
          0.36303050166566564,
          0.24760387386533406,
          0.32220011489608785,
          0.2902726071356899,
          0.3292460963143919,
          0.1848861662182153,
          0.25744411177322535,
          0.2811766452492479,
          0.3959653863334006,
          0.21438257939736807,
          0.2219900862344286,
          0.19927002921060624,
          0.16353489495542672,
          0.24463370534758005,
          0.362804628654643,
          0.316026375167769,
          0.2881305341505198,
          0.17542264035734328,
          0.22589621116247366,
          0.2640984594680291,
          0.23192910587123355,
          0.20986708229928838,
          0.1318107852172427,
          0.1525127050409511,
          0.34098054228531327,
          0.2724648548002152,
          0.1842297494251861,
          0.21087651740497554
         ],
         "xaxis": "x8",
         "y": [
          0.7246469833119383,
          0.6861360718870345,
          0.5,
          0.5808729139922978,
          0.5667522464698331,
          0.7528883183568679,
          0.6880616174582799,
          0.7265725288831836,
          0.607188703465982,
          0.6335044929396663,
          0.7124518613607188,
          0.7265725288831836,
          0.7650834403080873,
          0.738767650834403,
          0.738767650834403,
          0.7265725288831836,
          0.6861360718870345,
          0.7265725288831836,
          0.7002567394094994,
          0.7002567394094994,
          0.6598202824133504,
          0.7548138639281129,
          0.7124518613607188,
          0.7124518613607188,
          0.7002567394094994,
          0.6861360718870345,
          0.7002567394094994,
          0.7002567394094994,
          0.738767650834403,
          0.7650834403080873,
          0.738767650834403,
          0.803594351732991,
          0.7246469833119383,
          0.738767650834403,
          0.7265725288831836,
          0.738767650834403,
          0.7792041078305519,
          0.6880616174582799,
          0.7509627727856225,
          0.7124518613607188,
          0.7913992297817715,
          0.738767650834403,
          0.7528883183568679,
          0.7650834403080873,
          0.6335044929396663,
          0.8177150192554556,
          0.6861360718870345,
          0.7528883183568679,
          0.7913992297817715,
          0.67201540436457,
          0.7650834403080873,
          0.7528883183568679,
          0.6983311938382541,
          0.7124518613607188,
          0.6983311938382541,
          0.7792041078305519,
          0.7913992297817715,
          0.7913992297817715,
          0.6456996148908858,
          0.738767650834403,
          0.7124518613607188,
          0.7265725288831836,
          0.7124518613607188,
          0.7528883183568679,
          0.6983311938382541,
          0.7528883183568679,
          0.7124518613607188,
          0.6739409499358152,
          0.738767650834403,
          0.7913992297817715,
          0.6861360718870345,
          0.7650834403080873,
          0.6861360718870345,
          0.7528883183568679,
          0.738767650834403,
          0.7124518613607188,
          0.7528883183568679,
          0.7124518613607188,
          0.7528883183568679,
          0.6861360718870345,
          0.7528883183568679,
          0.7913992297817715,
          0.7792041078305519,
          0.7528883183568679,
          0.738767650834403,
          0.6739409499358152,
          0.7528883183568679,
          0.7246469833119383,
          0.7772785622593068,
          0.7528883183568679,
          0.7772785622593068,
          0.7265725288831836,
          0.7265725288831836,
          0.7528883183568679,
          0.7265725288831836,
          0.67201540436457,
          0.7528883183568679,
          0.7528883183568679,
          0.6861360718870345,
          0.7265725288831836
         ],
         "yaxis": "y8"
        },
        {
         "marker": {
          "color": [
           0,
           1,
           2,
           3,
           4,
           5,
           6,
           7,
           8,
           9,
           10,
           11,
           12,
           13,
           14,
           15,
           16,
           17,
           18,
           19,
           20,
           21,
           22,
           23,
           24,
           25,
           26,
           27,
           28,
           29,
           30,
           31,
           32,
           33,
           34,
           35,
           36,
           37,
           38,
           39,
           40,
           41,
           42,
           43,
           44,
           45,
           46,
           47,
           48,
           49,
           50,
           51,
           52,
           53,
           54,
           55,
           56,
           57,
           58,
           59,
           60,
           61,
           62,
           63,
           64,
           65,
           66,
           67,
           68,
           69,
           70,
           71,
           72,
           73,
           74,
           75,
           76,
           77,
           78,
           79,
           80,
           81,
           82,
           83,
           84,
           85,
           86,
           87,
           88,
           89,
           90,
           91,
           92,
           93,
           94,
           95,
           96,
           97,
           98,
           99
          ],
          "colorbar": {
           "title": {
            "text": "Trial"
           },
           "x": 1,
           "xpad": 40
          },
          "colorscale": [
           [
            0,
            "rgb(247,251,255)"
           ],
           [
            0.125,
            "rgb(222,235,247)"
           ],
           [
            0.25,
            "rgb(198,219,239)"
           ],
           [
            0.375,
            "rgb(158,202,225)"
           ],
           [
            0.5,
            "rgb(107,174,214)"
           ],
           [
            0.625,
            "rgb(66,146,198)"
           ],
           [
            0.75,
            "rgb(33,113,181)"
           ],
           [
            0.875,
            "rgb(8,81,156)"
           ],
           [
            1,
            "rgb(8,48,107)"
           ]
          ],
          "line": {
           "color": "Grey",
           "width": 0.5
          },
          "showscale": false
         },
         "mode": "markers",
         "showlegend": false,
         "type": "scatter",
         "x": [
          9,
          8,
          8,
          4,
          4,
          4,
          1,
          4,
          3,
          10,
          6,
          2,
          6,
          6,
          6,
          5,
          7,
          2,
          5,
          7,
          3,
          7,
          7,
          8,
          5,
          7,
          9,
          6,
          3,
          9,
          10,
          9,
          9,
          8,
          9,
          8,
          10,
          10,
          10,
          9,
          8,
          8,
          10,
          9,
          9,
          10,
          10,
          8,
          10,
          10,
          10,
          10,
          9,
          8,
          9,
          10,
          10,
          10,
          9,
          10,
          10,
          10,
          9,
          10,
          9,
          10,
          10,
          9,
          8,
          9,
          9,
          10,
          9,
          10,
          9,
          1,
          10,
          8,
          10,
          9,
          10,
          10,
          10,
          10,
          9,
          7,
          10,
          8,
          9,
          10,
          9,
          10,
          10,
          10,
          10,
          9,
          10,
          10,
          9,
          4
         ],
         "xaxis": "x9",
         "y": [
          0.7246469833119383,
          0.6861360718870345,
          0.5,
          0.5808729139922978,
          0.5667522464698331,
          0.7528883183568679,
          0.6880616174582799,
          0.7265725288831836,
          0.607188703465982,
          0.6335044929396663,
          0.7124518613607188,
          0.7265725288831836,
          0.7650834403080873,
          0.738767650834403,
          0.738767650834403,
          0.7265725288831836,
          0.6861360718870345,
          0.7265725288831836,
          0.7002567394094994,
          0.7002567394094994,
          0.6598202824133504,
          0.7548138639281129,
          0.7124518613607188,
          0.7124518613607188,
          0.7002567394094994,
          0.6861360718870345,
          0.7002567394094994,
          0.7002567394094994,
          0.738767650834403,
          0.7650834403080873,
          0.738767650834403,
          0.803594351732991,
          0.7246469833119383,
          0.738767650834403,
          0.7265725288831836,
          0.738767650834403,
          0.7792041078305519,
          0.6880616174582799,
          0.7509627727856225,
          0.7124518613607188,
          0.7913992297817715,
          0.738767650834403,
          0.7528883183568679,
          0.7650834403080873,
          0.6335044929396663,
          0.8177150192554556,
          0.6861360718870345,
          0.7528883183568679,
          0.7913992297817715,
          0.67201540436457,
          0.7650834403080873,
          0.7528883183568679,
          0.6983311938382541,
          0.7124518613607188,
          0.6983311938382541,
          0.7792041078305519,
          0.7913992297817715,
          0.7913992297817715,
          0.6456996148908858,
          0.738767650834403,
          0.7124518613607188,
          0.7265725288831836,
          0.7124518613607188,
          0.7528883183568679,
          0.6983311938382541,
          0.7528883183568679,
          0.7124518613607188,
          0.6739409499358152,
          0.738767650834403,
          0.7913992297817715,
          0.6861360718870345,
          0.7650834403080873,
          0.6861360718870345,
          0.7528883183568679,
          0.738767650834403,
          0.7124518613607188,
          0.7528883183568679,
          0.7124518613607188,
          0.7528883183568679,
          0.6861360718870345,
          0.7528883183568679,
          0.7913992297817715,
          0.7792041078305519,
          0.7528883183568679,
          0.738767650834403,
          0.6739409499358152,
          0.7528883183568679,
          0.7246469833119383,
          0.7772785622593068,
          0.7528883183568679,
          0.7772785622593068,
          0.7265725288831836,
          0.7265725288831836,
          0.7528883183568679,
          0.7265725288831836,
          0.67201540436457,
          0.7528883183568679,
          0.7528883183568679,
          0.6861360718870345,
          0.7265725288831836
         ],
         "yaxis": "y9"
        }
       ],
       "layout": {
        "template": {
         "data": {
          "bar": [
           {
            "error_x": {
             "color": "#2a3f5f"
            },
            "error_y": {
             "color": "#2a3f5f"
            },
            "marker": {
             "line": {
              "color": "#E5ECF6",
              "width": 0.5
             },
             "pattern": {
              "fillmode": "overlay",
              "size": 10,
              "solidity": 0.2
             }
            },
            "type": "bar"
           }
          ],
          "barpolar": [
           {
            "marker": {
             "line": {
              "color": "#E5ECF6",
              "width": 0.5
             },
             "pattern": {
              "fillmode": "overlay",
              "size": 10,
              "solidity": 0.2
             }
            },
            "type": "barpolar"
           }
          ],
          "carpet": [
           {
            "aaxis": {
             "endlinecolor": "#2a3f5f",
             "gridcolor": "white",
             "linecolor": "white",
             "minorgridcolor": "white",
             "startlinecolor": "#2a3f5f"
            },
            "baxis": {
             "endlinecolor": "#2a3f5f",
             "gridcolor": "white",
             "linecolor": "white",
             "minorgridcolor": "white",
             "startlinecolor": "#2a3f5f"
            },
            "type": "carpet"
           }
          ],
          "choropleth": [
           {
            "colorbar": {
             "outlinewidth": 0,
             "ticks": ""
            },
            "type": "choropleth"
           }
          ],
          "contour": [
           {
            "colorbar": {
             "outlinewidth": 0,
             "ticks": ""
            },
            "colorscale": [
             [
              0,
              "#0d0887"
             ],
             [
              0.1111111111111111,
              "#46039f"
             ],
             [
              0.2222222222222222,
              "#7201a8"
             ],
             [
              0.3333333333333333,
              "#9c179e"
             ],
             [
              0.4444444444444444,
              "#bd3786"
             ],
             [
              0.5555555555555556,
              "#d8576b"
             ],
             [
              0.6666666666666666,
              "#ed7953"
             ],
             [
              0.7777777777777778,
              "#fb9f3a"
             ],
             [
              0.8888888888888888,
              "#fdca26"
             ],
             [
              1,
              "#f0f921"
             ]
            ],
            "type": "contour"
           }
          ],
          "contourcarpet": [
           {
            "colorbar": {
             "outlinewidth": 0,
             "ticks": ""
            },
            "type": "contourcarpet"
           }
          ],
          "heatmap": [
           {
            "colorbar": {
             "outlinewidth": 0,
             "ticks": ""
            },
            "colorscale": [
             [
              0,
              "#0d0887"
             ],
             [
              0.1111111111111111,
              "#46039f"
             ],
             [
              0.2222222222222222,
              "#7201a8"
             ],
             [
              0.3333333333333333,
              "#9c179e"
             ],
             [
              0.4444444444444444,
              "#bd3786"
             ],
             [
              0.5555555555555556,
              "#d8576b"
             ],
             [
              0.6666666666666666,
              "#ed7953"
             ],
             [
              0.7777777777777778,
              "#fb9f3a"
             ],
             [
              0.8888888888888888,
              "#fdca26"
             ],
             [
              1,
              "#f0f921"
             ]
            ],
            "type": "heatmap"
           }
          ],
          "heatmapgl": [
           {
            "colorbar": {
             "outlinewidth": 0,
             "ticks": ""
            },
            "colorscale": [
             [
              0,
              "#0d0887"
             ],
             [
              0.1111111111111111,
              "#46039f"
             ],
             [
              0.2222222222222222,
              "#7201a8"
             ],
             [
              0.3333333333333333,
              "#9c179e"
             ],
             [
              0.4444444444444444,
              "#bd3786"
             ],
             [
              0.5555555555555556,
              "#d8576b"
             ],
             [
              0.6666666666666666,
              "#ed7953"
             ],
             [
              0.7777777777777778,
              "#fb9f3a"
             ],
             [
              0.8888888888888888,
              "#fdca26"
             ],
             [
              1,
              "#f0f921"
             ]
            ],
            "type": "heatmapgl"
           }
          ],
          "histogram": [
           {
            "marker": {
             "pattern": {
              "fillmode": "overlay",
              "size": 10,
              "solidity": 0.2
             }
            },
            "type": "histogram"
           }
          ],
          "histogram2d": [
           {
            "colorbar": {
             "outlinewidth": 0,
             "ticks": ""
            },
            "colorscale": [
             [
              0,
              "#0d0887"
             ],
             [
              0.1111111111111111,
              "#46039f"
             ],
             [
              0.2222222222222222,
              "#7201a8"
             ],
             [
              0.3333333333333333,
              "#9c179e"
             ],
             [
              0.4444444444444444,
              "#bd3786"
             ],
             [
              0.5555555555555556,
              "#d8576b"
             ],
             [
              0.6666666666666666,
              "#ed7953"
             ],
             [
              0.7777777777777778,
              "#fb9f3a"
             ],
             [
              0.8888888888888888,
              "#fdca26"
             ],
             [
              1,
              "#f0f921"
             ]
            ],
            "type": "histogram2d"
           }
          ],
          "histogram2dcontour": [
           {
            "colorbar": {
             "outlinewidth": 0,
             "ticks": ""
            },
            "colorscale": [
             [
              0,
              "#0d0887"
             ],
             [
              0.1111111111111111,
              "#46039f"
             ],
             [
              0.2222222222222222,
              "#7201a8"
             ],
             [
              0.3333333333333333,
              "#9c179e"
             ],
             [
              0.4444444444444444,
              "#bd3786"
             ],
             [
              0.5555555555555556,
              "#d8576b"
             ],
             [
              0.6666666666666666,
              "#ed7953"
             ],
             [
              0.7777777777777778,
              "#fb9f3a"
             ],
             [
              0.8888888888888888,
              "#fdca26"
             ],
             [
              1,
              "#f0f921"
             ]
            ],
            "type": "histogram2dcontour"
           }
          ],
          "mesh3d": [
           {
            "colorbar": {
             "outlinewidth": 0,
             "ticks": ""
            },
            "type": "mesh3d"
           }
          ],
          "parcoords": [
           {
            "line": {
             "colorbar": {
              "outlinewidth": 0,
              "ticks": ""
             }
            },
            "type": "parcoords"
           }
          ],
          "pie": [
           {
            "automargin": true,
            "type": "pie"
           }
          ],
          "scatter": [
           {
            "fillpattern": {
             "fillmode": "overlay",
             "size": 10,
             "solidity": 0.2
            },
            "type": "scatter"
           }
          ],
          "scatter3d": [
           {
            "line": {
             "colorbar": {
              "outlinewidth": 0,
              "ticks": ""
             }
            },
            "marker": {
             "colorbar": {
              "outlinewidth": 0,
              "ticks": ""
             }
            },
            "type": "scatter3d"
           }
          ],
          "scattercarpet": [
           {
            "marker": {
             "colorbar": {
              "outlinewidth": 0,
              "ticks": ""
             }
            },
            "type": "scattercarpet"
           }
          ],
          "scattergeo": [
           {
            "marker": {
             "colorbar": {
              "outlinewidth": 0,
              "ticks": ""
             }
            },
            "type": "scattergeo"
           }
          ],
          "scattergl": [
           {
            "marker": {
             "colorbar": {
              "outlinewidth": 0,
              "ticks": ""
             }
            },
            "type": "scattergl"
           }
          ],
          "scattermapbox": [
           {
            "marker": {
             "colorbar": {
              "outlinewidth": 0,
              "ticks": ""
             }
            },
            "type": "scattermapbox"
           }
          ],
          "scatterpolar": [
           {
            "marker": {
             "colorbar": {
              "outlinewidth": 0,
              "ticks": ""
             }
            },
            "type": "scatterpolar"
           }
          ],
          "scatterpolargl": [
           {
            "marker": {
             "colorbar": {
              "outlinewidth": 0,
              "ticks": ""
             }
            },
            "type": "scatterpolargl"
           }
          ],
          "scatterternary": [
           {
            "marker": {
             "colorbar": {
              "outlinewidth": 0,
              "ticks": ""
             }
            },
            "type": "scatterternary"
           }
          ],
          "surface": [
           {
            "colorbar": {
             "outlinewidth": 0,
             "ticks": ""
            },
            "colorscale": [
             [
              0,
              "#0d0887"
             ],
             [
              0.1111111111111111,
              "#46039f"
             ],
             [
              0.2222222222222222,
              "#7201a8"
             ],
             [
              0.3333333333333333,
              "#9c179e"
             ],
             [
              0.4444444444444444,
              "#bd3786"
             ],
             [
              0.5555555555555556,
              "#d8576b"
             ],
             [
              0.6666666666666666,
              "#ed7953"
             ],
             [
              0.7777777777777778,
              "#fb9f3a"
             ],
             [
              0.8888888888888888,
              "#fdca26"
             ],
             [
              1,
              "#f0f921"
             ]
            ],
            "type": "surface"
           }
          ],
          "table": [
           {
            "cells": {
             "fill": {
              "color": "#EBF0F8"
             },
             "line": {
              "color": "white"
             }
            },
            "header": {
             "fill": {
              "color": "#C8D4E3"
             },
             "line": {
              "color": "white"
             }
            },
            "type": "table"
           }
          ]
         },
         "layout": {
          "annotationdefaults": {
           "arrowcolor": "#2a3f5f",
           "arrowhead": 0,
           "arrowwidth": 1
          },
          "autotypenumbers": "strict",
          "coloraxis": {
           "colorbar": {
            "outlinewidth": 0,
            "ticks": ""
           }
          },
          "colorscale": {
           "diverging": [
            [
             0,
             "#8e0152"
            ],
            [
             0.1,
             "#c51b7d"
            ],
            [
             0.2,
             "#de77ae"
            ],
            [
             0.3,
             "#f1b6da"
            ],
            [
             0.4,
             "#fde0ef"
            ],
            [
             0.5,
             "#f7f7f7"
            ],
            [
             0.6,
             "#e6f5d0"
            ],
            [
             0.7,
             "#b8e186"
            ],
            [
             0.8,
             "#7fbc41"
            ],
            [
             0.9,
             "#4d9221"
            ],
            [
             1,
             "#276419"
            ]
           ],
           "sequential": [
            [
             0,
             "#0d0887"
            ],
            [
             0.1111111111111111,
             "#46039f"
            ],
            [
             0.2222222222222222,
             "#7201a8"
            ],
            [
             0.3333333333333333,
             "#9c179e"
            ],
            [
             0.4444444444444444,
             "#bd3786"
            ],
            [
             0.5555555555555556,
             "#d8576b"
            ],
            [
             0.6666666666666666,
             "#ed7953"
            ],
            [
             0.7777777777777778,
             "#fb9f3a"
            ],
            [
             0.8888888888888888,
             "#fdca26"
            ],
            [
             1,
             "#f0f921"
            ]
           ],
           "sequentialminus": [
            [
             0,
             "#0d0887"
            ],
            [
             0.1111111111111111,
             "#46039f"
            ],
            [
             0.2222222222222222,
             "#7201a8"
            ],
            [
             0.3333333333333333,
             "#9c179e"
            ],
            [
             0.4444444444444444,
             "#bd3786"
            ],
            [
             0.5555555555555556,
             "#d8576b"
            ],
            [
             0.6666666666666666,
             "#ed7953"
            ],
            [
             0.7777777777777778,
             "#fb9f3a"
            ],
            [
             0.8888888888888888,
             "#fdca26"
            ],
            [
             1,
             "#f0f921"
            ]
           ]
          },
          "colorway": [
           "#636efa",
           "#EF553B",
           "#00cc96",
           "#ab63fa",
           "#FFA15A",
           "#19d3f3",
           "#FF6692",
           "#B6E880",
           "#FF97FF",
           "#FECB52"
          ],
          "font": {
           "color": "#2a3f5f"
          },
          "geo": {
           "bgcolor": "white",
           "lakecolor": "white",
           "landcolor": "#E5ECF6",
           "showlakes": true,
           "showland": true,
           "subunitcolor": "white"
          },
          "hoverlabel": {
           "align": "left"
          },
          "hovermode": "closest",
          "mapbox": {
           "style": "light"
          },
          "paper_bgcolor": "white",
          "plot_bgcolor": "#E5ECF6",
          "polar": {
           "angularaxis": {
            "gridcolor": "white",
            "linecolor": "white",
            "ticks": ""
           },
           "bgcolor": "#E5ECF6",
           "radialaxis": {
            "gridcolor": "white",
            "linecolor": "white",
            "ticks": ""
           }
          },
          "scene": {
           "xaxis": {
            "backgroundcolor": "#E5ECF6",
            "gridcolor": "white",
            "gridwidth": 2,
            "linecolor": "white",
            "showbackground": true,
            "ticks": "",
            "zerolinecolor": "white"
           },
           "yaxis": {
            "backgroundcolor": "#E5ECF6",
            "gridcolor": "white",
            "gridwidth": 2,
            "linecolor": "white",
            "showbackground": true,
            "ticks": "",
            "zerolinecolor": "white"
           },
           "zaxis": {
            "backgroundcolor": "#E5ECF6",
            "gridcolor": "white",
            "gridwidth": 2,
            "linecolor": "white",
            "showbackground": true,
            "ticks": "",
            "zerolinecolor": "white"
           }
          },
          "shapedefaults": {
           "line": {
            "color": "#2a3f5f"
           }
          },
          "ternary": {
           "aaxis": {
            "gridcolor": "white",
            "linecolor": "white",
            "ticks": ""
           },
           "baxis": {
            "gridcolor": "white",
            "linecolor": "white",
            "ticks": ""
           },
           "bgcolor": "#E5ECF6",
           "caxis": {
            "gridcolor": "white",
            "linecolor": "white",
            "ticks": ""
           }
          },
          "title": {
           "x": 0.05
          },
          "xaxis": {
           "automargin": true,
           "gridcolor": "white",
           "linecolor": "white",
           "ticks": "",
           "title": {
            "standoff": 15
           },
           "zerolinecolor": "white",
           "zerolinewidth": 2
          },
          "yaxis": {
           "automargin": true,
           "gridcolor": "white",
           "linecolor": "white",
           "ticks": "",
           "title": {
            "standoff": 15
           },
           "zerolinecolor": "white",
           "zerolinewidth": 2
          }
         }
        },
        "title": {
         "text": "Slice Plot"
        },
        "width": 2700,
        "xaxis": {
         "anchor": "y",
         "domain": [
          0,
          0.09135802469135802
         ],
         "title": {
          "text": "colsample_bytree"
         }
        },
        "xaxis2": {
         "anchor": "y2",
         "domain": [
          0.11358024691358025,
          0.20493827160493827
         ],
         "title": {
          "text": "learning_rate"
         }
        },
        "xaxis3": {
         "anchor": "y3",
         "domain": [
          0.2271604938271605,
          0.31851851851851853
         ],
         "title": {
          "text": "max_depth"
         }
        },
        "xaxis4": {
         "anchor": "y4",
         "domain": [
          0.34074074074074073,
          0.43209876543209874
         ],
         "title": {
          "text": "min_child_samples"
         }
        },
        "xaxis5": {
         "anchor": "y5",
         "domain": [
          0.454320987654321,
          0.5456790123456791
         ],
         "title": {
          "text": "num_leaves"
         }
        },
        "xaxis6": {
         "anchor": "y6",
         "domain": [
          0.5679012345679012,
          0.6592592592592592
         ],
         "title": {
          "text": "reg_alpha"
         }
        },
        "xaxis7": {
         "anchor": "y7",
         "domain": [
          0.6814814814814815,
          0.7728395061728395
         ],
         "title": {
          "text": "reg_lambda"
         }
        },
        "xaxis8": {
         "anchor": "y8",
         "domain": [
          0.7950617283950617,
          0.8864197530864197
         ],
         "title": {
          "text": "subsample"
         }
        },
        "xaxis9": {
         "anchor": "y9",
         "domain": [
          0.908641975308642,
          1
         ],
         "title": {
          "text": "subsample_freq"
         }
        },
        "yaxis": {
         "anchor": "x",
         "domain": [
          0,
          1
         ],
         "title": {
          "text": "Objective Value"
         }
        },
        "yaxis2": {
         "anchor": "x2",
         "domain": [
          0,
          1
         ],
         "matches": "y",
         "showticklabels": false
        },
        "yaxis3": {
         "anchor": "x3",
         "domain": [
          0,
          1
         ],
         "matches": "y",
         "showticklabels": false
        },
        "yaxis4": {
         "anchor": "x4",
         "domain": [
          0,
          1
         ],
         "matches": "y",
         "showticklabels": false
        },
        "yaxis5": {
         "anchor": "x5",
         "domain": [
          0,
          1
         ],
         "matches": "y",
         "showticklabels": false
        },
        "yaxis6": {
         "anchor": "x6",
         "domain": [
          0,
          1
         ],
         "matches": "y",
         "showticklabels": false
        },
        "yaxis7": {
         "anchor": "x7",
         "domain": [
          0,
          1
         ],
         "matches": "y",
         "showticklabels": false
        },
        "yaxis8": {
         "anchor": "x8",
         "domain": [
          0,
          1
         ],
         "matches": "y",
         "showticklabels": false
        },
        "yaxis9": {
         "anchor": "x9",
         "domain": [
          0,
          1
         ],
         "matches": "y",
         "showticklabels": false
        }
       }
      }
     },
     "metadata": {},
     "output_type": "display_data"
    }
   ],
   "source": [
    "optuna.visualization.plot_slice(study)"
   ]
  },
  {
   "cell_type": "code",
   "execution_count": 13,
   "metadata": {},
   "outputs": [
    {
     "data": {
      "application/vnd.plotly.v1+json": {
       "config": {
        "plotlyServerURL": "https://plot.ly"
       },
       "data": [
        {
         "cliponaxis": false,
         "hovertemplate": [
          "reg_lambda (FloatDistribution): 0.005319077748273439<extra></extra>",
          "reg_alpha (FloatDistribution): 0.00936438516000337<extra></extra>",
          "num_leaves (IntDistribution): 0.017795271418323266<extra></extra>",
          "subsample_freq (IntDistribution): 0.01905799805361586<extra></extra>",
          "subsample (FloatDistribution): 0.02724444777561414<extra></extra>",
          "max_depth (IntDistribution): 0.029054351633411305<extra></extra>",
          "min_child_samples (IntDistribution): 0.03517417506553181<extra></extra>",
          "colsample_bytree (FloatDistribution): 0.08393821852627796<extra></extra>",
          "learning_rate (FloatDistribution): 0.773052074618949<extra></extra>"
         ],
         "marker": {
          "color": "rgb(66,146,198)"
         },
         "orientation": "h",
         "text": [
          "<0.01",
          "<0.01",
          "0.02",
          "0.02",
          "0.03",
          "0.03",
          "0.04",
          "0.08",
          "0.77"
         ],
         "textposition": "outside",
         "type": "bar",
         "x": [
          0.005319077748273439,
          0.00936438516000337,
          0.017795271418323266,
          0.01905799805361586,
          0.02724444777561414,
          0.029054351633411305,
          0.03517417506553181,
          0.08393821852627796,
          0.773052074618949
         ],
         "y": [
          "reg_lambda",
          "reg_alpha",
          "num_leaves",
          "subsample_freq",
          "subsample",
          "max_depth",
          "min_child_samples",
          "colsample_bytree",
          "learning_rate"
         ]
        }
       ],
       "layout": {
        "showlegend": false,
        "template": {
         "data": {
          "bar": [
           {
            "error_x": {
             "color": "#2a3f5f"
            },
            "error_y": {
             "color": "#2a3f5f"
            },
            "marker": {
             "line": {
              "color": "#E5ECF6",
              "width": 0.5
             },
             "pattern": {
              "fillmode": "overlay",
              "size": 10,
              "solidity": 0.2
             }
            },
            "type": "bar"
           }
          ],
          "barpolar": [
           {
            "marker": {
             "line": {
              "color": "#E5ECF6",
              "width": 0.5
             },
             "pattern": {
              "fillmode": "overlay",
              "size": 10,
              "solidity": 0.2
             }
            },
            "type": "barpolar"
           }
          ],
          "carpet": [
           {
            "aaxis": {
             "endlinecolor": "#2a3f5f",
             "gridcolor": "white",
             "linecolor": "white",
             "minorgridcolor": "white",
             "startlinecolor": "#2a3f5f"
            },
            "baxis": {
             "endlinecolor": "#2a3f5f",
             "gridcolor": "white",
             "linecolor": "white",
             "minorgridcolor": "white",
             "startlinecolor": "#2a3f5f"
            },
            "type": "carpet"
           }
          ],
          "choropleth": [
           {
            "colorbar": {
             "outlinewidth": 0,
             "ticks": ""
            },
            "type": "choropleth"
           }
          ],
          "contour": [
           {
            "colorbar": {
             "outlinewidth": 0,
             "ticks": ""
            },
            "colorscale": [
             [
              0,
              "#0d0887"
             ],
             [
              0.1111111111111111,
              "#46039f"
             ],
             [
              0.2222222222222222,
              "#7201a8"
             ],
             [
              0.3333333333333333,
              "#9c179e"
             ],
             [
              0.4444444444444444,
              "#bd3786"
             ],
             [
              0.5555555555555556,
              "#d8576b"
             ],
             [
              0.6666666666666666,
              "#ed7953"
             ],
             [
              0.7777777777777778,
              "#fb9f3a"
             ],
             [
              0.8888888888888888,
              "#fdca26"
             ],
             [
              1,
              "#f0f921"
             ]
            ],
            "type": "contour"
           }
          ],
          "contourcarpet": [
           {
            "colorbar": {
             "outlinewidth": 0,
             "ticks": ""
            },
            "type": "contourcarpet"
           }
          ],
          "heatmap": [
           {
            "colorbar": {
             "outlinewidth": 0,
             "ticks": ""
            },
            "colorscale": [
             [
              0,
              "#0d0887"
             ],
             [
              0.1111111111111111,
              "#46039f"
             ],
             [
              0.2222222222222222,
              "#7201a8"
             ],
             [
              0.3333333333333333,
              "#9c179e"
             ],
             [
              0.4444444444444444,
              "#bd3786"
             ],
             [
              0.5555555555555556,
              "#d8576b"
             ],
             [
              0.6666666666666666,
              "#ed7953"
             ],
             [
              0.7777777777777778,
              "#fb9f3a"
             ],
             [
              0.8888888888888888,
              "#fdca26"
             ],
             [
              1,
              "#f0f921"
             ]
            ],
            "type": "heatmap"
           }
          ],
          "heatmapgl": [
           {
            "colorbar": {
             "outlinewidth": 0,
             "ticks": ""
            },
            "colorscale": [
             [
              0,
              "#0d0887"
             ],
             [
              0.1111111111111111,
              "#46039f"
             ],
             [
              0.2222222222222222,
              "#7201a8"
             ],
             [
              0.3333333333333333,
              "#9c179e"
             ],
             [
              0.4444444444444444,
              "#bd3786"
             ],
             [
              0.5555555555555556,
              "#d8576b"
             ],
             [
              0.6666666666666666,
              "#ed7953"
             ],
             [
              0.7777777777777778,
              "#fb9f3a"
             ],
             [
              0.8888888888888888,
              "#fdca26"
             ],
             [
              1,
              "#f0f921"
             ]
            ],
            "type": "heatmapgl"
           }
          ],
          "histogram": [
           {
            "marker": {
             "pattern": {
              "fillmode": "overlay",
              "size": 10,
              "solidity": 0.2
             }
            },
            "type": "histogram"
           }
          ],
          "histogram2d": [
           {
            "colorbar": {
             "outlinewidth": 0,
             "ticks": ""
            },
            "colorscale": [
             [
              0,
              "#0d0887"
             ],
             [
              0.1111111111111111,
              "#46039f"
             ],
             [
              0.2222222222222222,
              "#7201a8"
             ],
             [
              0.3333333333333333,
              "#9c179e"
             ],
             [
              0.4444444444444444,
              "#bd3786"
             ],
             [
              0.5555555555555556,
              "#d8576b"
             ],
             [
              0.6666666666666666,
              "#ed7953"
             ],
             [
              0.7777777777777778,
              "#fb9f3a"
             ],
             [
              0.8888888888888888,
              "#fdca26"
             ],
             [
              1,
              "#f0f921"
             ]
            ],
            "type": "histogram2d"
           }
          ],
          "histogram2dcontour": [
           {
            "colorbar": {
             "outlinewidth": 0,
             "ticks": ""
            },
            "colorscale": [
             [
              0,
              "#0d0887"
             ],
             [
              0.1111111111111111,
              "#46039f"
             ],
             [
              0.2222222222222222,
              "#7201a8"
             ],
             [
              0.3333333333333333,
              "#9c179e"
             ],
             [
              0.4444444444444444,
              "#bd3786"
             ],
             [
              0.5555555555555556,
              "#d8576b"
             ],
             [
              0.6666666666666666,
              "#ed7953"
             ],
             [
              0.7777777777777778,
              "#fb9f3a"
             ],
             [
              0.8888888888888888,
              "#fdca26"
             ],
             [
              1,
              "#f0f921"
             ]
            ],
            "type": "histogram2dcontour"
           }
          ],
          "mesh3d": [
           {
            "colorbar": {
             "outlinewidth": 0,
             "ticks": ""
            },
            "type": "mesh3d"
           }
          ],
          "parcoords": [
           {
            "line": {
             "colorbar": {
              "outlinewidth": 0,
              "ticks": ""
             }
            },
            "type": "parcoords"
           }
          ],
          "pie": [
           {
            "automargin": true,
            "type": "pie"
           }
          ],
          "scatter": [
           {
            "fillpattern": {
             "fillmode": "overlay",
             "size": 10,
             "solidity": 0.2
            },
            "type": "scatter"
           }
          ],
          "scatter3d": [
           {
            "line": {
             "colorbar": {
              "outlinewidth": 0,
              "ticks": ""
             }
            },
            "marker": {
             "colorbar": {
              "outlinewidth": 0,
              "ticks": ""
             }
            },
            "type": "scatter3d"
           }
          ],
          "scattercarpet": [
           {
            "marker": {
             "colorbar": {
              "outlinewidth": 0,
              "ticks": ""
             }
            },
            "type": "scattercarpet"
           }
          ],
          "scattergeo": [
           {
            "marker": {
             "colorbar": {
              "outlinewidth": 0,
              "ticks": ""
             }
            },
            "type": "scattergeo"
           }
          ],
          "scattergl": [
           {
            "marker": {
             "colorbar": {
              "outlinewidth": 0,
              "ticks": ""
             }
            },
            "type": "scattergl"
           }
          ],
          "scattermapbox": [
           {
            "marker": {
             "colorbar": {
              "outlinewidth": 0,
              "ticks": ""
             }
            },
            "type": "scattermapbox"
           }
          ],
          "scatterpolar": [
           {
            "marker": {
             "colorbar": {
              "outlinewidth": 0,
              "ticks": ""
             }
            },
            "type": "scatterpolar"
           }
          ],
          "scatterpolargl": [
           {
            "marker": {
             "colorbar": {
              "outlinewidth": 0,
              "ticks": ""
             }
            },
            "type": "scatterpolargl"
           }
          ],
          "scatterternary": [
           {
            "marker": {
             "colorbar": {
              "outlinewidth": 0,
              "ticks": ""
             }
            },
            "type": "scatterternary"
           }
          ],
          "surface": [
           {
            "colorbar": {
             "outlinewidth": 0,
             "ticks": ""
            },
            "colorscale": [
             [
              0,
              "#0d0887"
             ],
             [
              0.1111111111111111,
              "#46039f"
             ],
             [
              0.2222222222222222,
              "#7201a8"
             ],
             [
              0.3333333333333333,
              "#9c179e"
             ],
             [
              0.4444444444444444,
              "#bd3786"
             ],
             [
              0.5555555555555556,
              "#d8576b"
             ],
             [
              0.6666666666666666,
              "#ed7953"
             ],
             [
              0.7777777777777778,
              "#fb9f3a"
             ],
             [
              0.8888888888888888,
              "#fdca26"
             ],
             [
              1,
              "#f0f921"
             ]
            ],
            "type": "surface"
           }
          ],
          "table": [
           {
            "cells": {
             "fill": {
              "color": "#EBF0F8"
             },
             "line": {
              "color": "white"
             }
            },
            "header": {
             "fill": {
              "color": "#C8D4E3"
             },
             "line": {
              "color": "white"
             }
            },
            "type": "table"
           }
          ]
         },
         "layout": {
          "annotationdefaults": {
           "arrowcolor": "#2a3f5f",
           "arrowhead": 0,
           "arrowwidth": 1
          },
          "autotypenumbers": "strict",
          "coloraxis": {
           "colorbar": {
            "outlinewidth": 0,
            "ticks": ""
           }
          },
          "colorscale": {
           "diverging": [
            [
             0,
             "#8e0152"
            ],
            [
             0.1,
             "#c51b7d"
            ],
            [
             0.2,
             "#de77ae"
            ],
            [
             0.3,
             "#f1b6da"
            ],
            [
             0.4,
             "#fde0ef"
            ],
            [
             0.5,
             "#f7f7f7"
            ],
            [
             0.6,
             "#e6f5d0"
            ],
            [
             0.7,
             "#b8e186"
            ],
            [
             0.8,
             "#7fbc41"
            ],
            [
             0.9,
             "#4d9221"
            ],
            [
             1,
             "#276419"
            ]
           ],
           "sequential": [
            [
             0,
             "#0d0887"
            ],
            [
             0.1111111111111111,
             "#46039f"
            ],
            [
             0.2222222222222222,
             "#7201a8"
            ],
            [
             0.3333333333333333,
             "#9c179e"
            ],
            [
             0.4444444444444444,
             "#bd3786"
            ],
            [
             0.5555555555555556,
             "#d8576b"
            ],
            [
             0.6666666666666666,
             "#ed7953"
            ],
            [
             0.7777777777777778,
             "#fb9f3a"
            ],
            [
             0.8888888888888888,
             "#fdca26"
            ],
            [
             1,
             "#f0f921"
            ]
           ],
           "sequentialminus": [
            [
             0,
             "#0d0887"
            ],
            [
             0.1111111111111111,
             "#46039f"
            ],
            [
             0.2222222222222222,
             "#7201a8"
            ],
            [
             0.3333333333333333,
             "#9c179e"
            ],
            [
             0.4444444444444444,
             "#bd3786"
            ],
            [
             0.5555555555555556,
             "#d8576b"
            ],
            [
             0.6666666666666666,
             "#ed7953"
            ],
            [
             0.7777777777777778,
             "#fb9f3a"
            ],
            [
             0.8888888888888888,
             "#fdca26"
            ],
            [
             1,
             "#f0f921"
            ]
           ]
          },
          "colorway": [
           "#636efa",
           "#EF553B",
           "#00cc96",
           "#ab63fa",
           "#FFA15A",
           "#19d3f3",
           "#FF6692",
           "#B6E880",
           "#FF97FF",
           "#FECB52"
          ],
          "font": {
           "color": "#2a3f5f"
          },
          "geo": {
           "bgcolor": "white",
           "lakecolor": "white",
           "landcolor": "#E5ECF6",
           "showlakes": true,
           "showland": true,
           "subunitcolor": "white"
          },
          "hoverlabel": {
           "align": "left"
          },
          "hovermode": "closest",
          "mapbox": {
           "style": "light"
          },
          "paper_bgcolor": "white",
          "plot_bgcolor": "#E5ECF6",
          "polar": {
           "angularaxis": {
            "gridcolor": "white",
            "linecolor": "white",
            "ticks": ""
           },
           "bgcolor": "#E5ECF6",
           "radialaxis": {
            "gridcolor": "white",
            "linecolor": "white",
            "ticks": ""
           }
          },
          "scene": {
           "xaxis": {
            "backgroundcolor": "#E5ECF6",
            "gridcolor": "white",
            "gridwidth": 2,
            "linecolor": "white",
            "showbackground": true,
            "ticks": "",
            "zerolinecolor": "white"
           },
           "yaxis": {
            "backgroundcolor": "#E5ECF6",
            "gridcolor": "white",
            "gridwidth": 2,
            "linecolor": "white",
            "showbackground": true,
            "ticks": "",
            "zerolinecolor": "white"
           },
           "zaxis": {
            "backgroundcolor": "#E5ECF6",
            "gridcolor": "white",
            "gridwidth": 2,
            "linecolor": "white",
            "showbackground": true,
            "ticks": "",
            "zerolinecolor": "white"
           }
          },
          "shapedefaults": {
           "line": {
            "color": "#2a3f5f"
           }
          },
          "ternary": {
           "aaxis": {
            "gridcolor": "white",
            "linecolor": "white",
            "ticks": ""
           },
           "baxis": {
            "gridcolor": "white",
            "linecolor": "white",
            "ticks": ""
           },
           "bgcolor": "#E5ECF6",
           "caxis": {
            "gridcolor": "white",
            "linecolor": "white",
            "ticks": ""
           }
          },
          "title": {
           "x": 0.05
          },
          "xaxis": {
           "automargin": true,
           "gridcolor": "white",
           "linecolor": "white",
           "ticks": "",
           "title": {
            "standoff": 15
           },
           "zerolinecolor": "white",
           "zerolinewidth": 2
          },
          "yaxis": {
           "automargin": true,
           "gridcolor": "white",
           "linecolor": "white",
           "ticks": "",
           "title": {
            "standoff": 15
           },
           "zerolinecolor": "white",
           "zerolinewidth": 2
          }
         }
        },
        "title": {
         "text": "Hyperparameter Importances"
        },
        "xaxis": {
         "title": {
          "text": "Importance for Objective Value"
         }
        },
        "yaxis": {
         "title": {
          "text": "Hyperparameter"
         }
        }
       }
      }
     },
     "metadata": {},
     "output_type": "display_data"
    }
   ],
   "source": [
    "# Visualize parameter importances.\n",
    "optuna.visualization.plot_param_importances(study)"
   ]
  },
  {
   "attachments": {},
   "cell_type": "markdown",
   "metadata": {},
   "source": [
    "## LGBM with Optimized Parameter"
   ]
  },
  {
   "cell_type": "code",
   "execution_count": 27,
   "metadata": {},
   "outputs": [
    {
     "data": {
      "text/plain": [
       "{'reg_alpha': 6.833177329036985e-06,\n",
       " 'reg_lambda': 4.958487110482849e-06,\n",
       " 'num_leaves': 241,\n",
       " 'learning_rate': 0.08139171493009001,\n",
       " 'max_depth': 42,\n",
       " 'colsample_bytree': 0.032120190527832874,\n",
       " 'subsample': 0.2178632721062016,\n",
       " 'min_child_samples': 13,\n",
       " 'subsample_freq': 10,\n",
       " 'objective': 'binary',\n",
       " 'metric': 'binary_logloss',\n",
       " 'n_estimators': 200,\n",
       " 'random_state': 23}"
      ]
     },
     "execution_count": 27,
     "metadata": {},
     "output_type": "execute_result"
    }
   ],
   "source": [
    "## Additional params\n",
    "optimized_params['objective'] = 'binary'\n",
    "optimized_params['metric'] = 'binary_logloss'\n",
    "optimized_params['n_estimators'] = 200\n",
    "optimized_params['random_state'] = 23\n",
    "\n",
    "## Updated optimized hyperparameters\n",
    "optimized_params"
   ]
  },
  {
   "cell_type": "code",
   "execution_count": 28,
   "metadata": {},
   "outputs": [
    {
     "name": "stdout",
     "output_type": "stream",
     "text": [
      "CPU times: total: 469 ms\n",
      "Wall time: 95 ms\n"
     ]
    }
   ],
   "source": [
    "%%time\n",
    "lgbm_model = LGBMClassifier(**optimized_params)\n",
    "lgbm_model.fit(X_train, y_train)\n",
    "y_predict = lgbm_model.predict(X_test)"
   ]
  },
  {
   "cell_type": "code",
   "execution_count": 29,
   "metadata": {},
   "outputs": [
    {
     "data": {
      "text/plain": [
       "0.8177150192554556"
      ]
     },
     "execution_count": 29,
     "metadata": {},
     "output_type": "execute_result"
    }
   ],
   "source": [
    "roc_auc_score(y_test, y_predict)"
   ]
  },
  {
   "cell_type": "code",
   "execution_count": 30,
   "metadata": {},
   "outputs": [],
   "source": [
    "metrics = []\n",
    "cm = []"
   ]
  },
  {
   "cell_type": "code",
   "execution_count": 31,
   "metadata": {},
   "outputs": [],
   "source": [
    "from sklearn.metrics import precision_recall_fscore_support as score\n",
    "from sklearn.metrics import confusion_matrix, accuracy_score, roc_auc_score, auc\n",
    "from sklearn.metrics import make_scorer, recall_score, precision_score\n",
    "from sklearn.metrics import roc_curve, precision_recall_curve, matthews_corrcoef"
   ]
  },
  {
   "cell_type": "code",
   "execution_count": 32,
   "metadata": {},
   "outputs": [],
   "source": [
    "## In heart failure, 0 defines survive and 1 represents confirmed death\n",
    "specificity = make_scorer(precision_score, pos_label=0)\n",
    "npv = make_scorer(recall_score, pos_label=0)"
   ]
  },
  {
   "cell_type": "code",
   "execution_count": 33,
   "metadata": {},
   "outputs": [],
   "source": [
    "precision, recall, fscore, _ = score(y_test, y_predict, average='binary')\n",
    "accuracy = accuracy_score(y_test, y_predict)\n",
    "tnr = precision_score(y_test, y_predict, pos_label=0, average='binary')\n",
    "npv = recall_score(y_test, y_predict, pos_label=0, average='binary')\n",
    "mcc = matthews_corrcoef(y_test, y_predict)\n",
    "precision_curve, recall_curve, _ = precision_recall_curve(y_test, y_predict)\n",
    "pr = auc(recall_curve, precision_curve)\n",
    "roc = roc_auc_score(y_test, y_predict)\n",
    "\n",
    "\n",
    "cm.append(confusion_matrix(y_test, y_predict, labels=[1,0]))\n",
    "metrics.append(pd.Series({'precision':precision,\n",
    "                        'recall':recall,\n",
    "                        'fscore':fscore,\n",
    "                        'specificity':tnr,\n",
    "                        'NPV': npv,\n",
    "                        'accuracy':accuracy, \n",
    "                        'MCC':mcc,\n",
    "                        'Precision-Recall AUC':pr,\n",
    "                        'ROC AUC':roc}))\n",
    "\n",
    "metrics = pd.concat(metrics, axis=1)"
   ]
  },
  {
   "cell_type": "code",
   "execution_count": 34,
   "metadata": {},
   "outputs": [
    {
     "data": {
      "text/html": [
       "<div>\n",
       "<style scoped>\n",
       "    .dataframe tbody tr th:only-of-type {\n",
       "        vertical-align: middle;\n",
       "    }\n",
       "\n",
       "    .dataframe tbody tr th {\n",
       "        vertical-align: top;\n",
       "    }\n",
       "\n",
       "    .dataframe thead th {\n",
       "        text-align: right;\n",
       "    }\n",
       "</style>\n",
       "<table border=\"1\" class=\"dataframe\">\n",
       "  <thead>\n",
       "    <tr style=\"text-align: right;\">\n",
       "      <th></th>\n",
       "      <th>0</th>\n",
       "    </tr>\n",
       "  </thead>\n",
       "  <tbody>\n",
       "    <tr>\n",
       "      <th>precision</th>\n",
       "      <td>0.866667</td>\n",
       "    </tr>\n",
       "    <tr>\n",
       "      <th>recall</th>\n",
       "      <td>0.684211</td>\n",
       "    </tr>\n",
       "    <tr>\n",
       "      <th>fscore</th>\n",
       "      <td>0.764706</td>\n",
       "    </tr>\n",
       "    <tr>\n",
       "      <th>specificity</th>\n",
       "      <td>0.866667</td>\n",
       "    </tr>\n",
       "    <tr>\n",
       "      <th>NPV</th>\n",
       "      <td>0.951220</td>\n",
       "    </tr>\n",
       "    <tr>\n",
       "      <th>accuracy</th>\n",
       "      <td>0.866667</td>\n",
       "    </tr>\n",
       "    <tr>\n",
       "      <th>MCC</th>\n",
       "      <td>0.682629</td>\n",
       "    </tr>\n",
       "    <tr>\n",
       "      <th>Precision-Recall AUC</th>\n",
       "      <td>0.825439</td>\n",
       "    </tr>\n",
       "    <tr>\n",
       "      <th>ROC AUC</th>\n",
       "      <td>0.817715</td>\n",
       "    </tr>\n",
       "  </tbody>\n",
       "</table>\n",
       "</div>"
      ],
      "text/plain": [
       "                             0\n",
       "precision             0.866667\n",
       "recall                0.684211\n",
       "fscore                0.764706\n",
       "specificity           0.866667\n",
       "NPV                   0.951220\n",
       "accuracy              0.866667\n",
       "MCC                   0.682629\n",
       "Precision-Recall AUC  0.825439\n",
       "ROC AUC               0.817715"
      ]
     },
     "execution_count": 34,
     "metadata": {},
     "output_type": "execute_result"
    }
   ],
   "source": [
    "metrics"
   ]
  },
  {
   "cell_type": "code",
   "execution_count": null,
   "metadata": {},
   "outputs": [],
   "source": []
  }
 ],
 "metadata": {
  "kernelspec": {
   "display_name": "mlops_monitor",
   "language": "python",
   "name": "python3"
  },
  "language_info": {
   "codemirror_mode": {
    "name": "ipython",
    "version": 3
   },
   "file_extension": ".py",
   "mimetype": "text/x-python",
   "name": "python",
   "nbconvert_exporter": "python",
   "pygments_lexer": "ipython3",
   "version": "3.9.12"
  },
  "orig_nbformat": 4
 },
 "nbformat": 4,
 "nbformat_minor": 2
}
